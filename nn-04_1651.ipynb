{
 "cells": [
  {
   "cell_type": "markdown",
   "metadata": {
    "papermill": {
     "duration": 0.025992,
     "end_time": "2020-11-21T05:28:59.215601",
     "exception": false,
     "start_time": "2020-11-21T05:28:59.189609",
     "status": "completed"
    },
    "tags": []
   },
   "source": [
    "# Version Notifications:\n",
    "\n",
    "date : 2020/11/19\n",
    "\n",
    "key modifications :\n",
    "1. Half the hidden size."
   ]
  },
  {
   "cell_type": "markdown",
   "metadata": {
    "papermill": {
     "duration": 0.025547,
     "end_time": "2020-11-21T05:28:59.264999",
     "exception": false,
     "start_time": "2020-11-21T05:28:59.239452",
     "status": "completed"
    },
    "tags": []
   },
   "source": [
    "## packages, functions, utils "
   ]
  },
  {
   "cell_type": "code",
   "execution_count": 1,
   "metadata": {
    "execution": {
     "iopub.execute_input": "2020-11-21T05:28:59.323190Z",
     "iopub.status.busy": "2020-11-21T05:28:59.322310Z",
     "iopub.status.idle": "2020-11-21T05:29:01.902172Z",
     "shell.execute_reply": "2020-11-21T05:29:01.901630Z"
    },
    "papermill": {
     "duration": 2.612557,
     "end_time": "2020-11-21T05:29:01.902315",
     "exception": false,
     "start_time": "2020-11-21T05:28:59.289758",
     "status": "completed"
    },
    "tags": []
   },
   "outputs": [
    {
     "name": "stdout",
     "output_type": "stream",
     "text": [
      "Device : cuda\n"
     ]
    }
   ],
   "source": [
    "import numpy as np\n",
    "import pandas as pd \n",
    "import random\n",
    "import os\n",
    "import gc\n",
    "\n",
    "from tqdm.notebook import tqdm\n",
    "from scipy.special import erfinv\n",
    "\n",
    "from sklearn.metrics import log_loss\n",
    "\n",
    "import seaborn as sns\n",
    "from matplotlib import pyplot as plt\n",
    "\n",
    "import torch\n",
    "from torch import nn\n",
    "from torch.nn import functional as F\n",
    "from torch.nn import Module\n",
    "from torch import optim\n",
    "from torch.utils.data import Dataset, DataLoader\n",
    "\n",
    "device = torch.device('cuda' if torch.cuda.is_available() else 'cpu')\n",
    "print(f'Device : {device}')\n",
    "\n",
    "import warnings \n",
    "warnings.filterwarnings('ignore')"
   ]
  },
  {
   "cell_type": "code",
   "execution_count": 2,
   "metadata": {
    "execution": {
     "iopub.execute_input": "2020-11-21T05:29:01.965058Z",
     "iopub.status.busy": "2020-11-21T05:29:01.963211Z",
     "iopub.status.idle": "2020-11-21T05:29:01.965923Z",
     "shell.execute_reply": "2020-11-21T05:29:01.966406Z"
    },
    "papermill": {
     "duration": 0.038132,
     "end_time": "2020-11-21T05:29:01.966546",
     "exception": false,
     "start_time": "2020-11-21T05:29:01.928414",
     "status": "completed"
    },
    "tags": []
   },
   "outputs": [],
   "source": [
    "def cate2dummy(train, test, cate_features):\n",
    "    df_cate = train[['sig_id'] + cate_features].append(test[['sig_id'] + cate_features])\n",
    "    df_cate[cate_features] = df_cate[cate_features].astype(str)\n",
    "    df_dumm = pd.get_dummies(df_cate, columns=cate_features)\n",
    "\n",
    "    dumm_features = [c for c in df_dumm.columns if c not in ['sig_id']]\n",
    "    train = train.merge(df_dumm, on='sig_id', how='left')\n",
    "    test = test.merge(df_dumm, on='sig_id', how='left')\n",
    "    \n",
    "    return train, test, dumm_features"
   ]
  },
  {
   "cell_type": "code",
   "execution_count": 3,
   "metadata": {
    "execution": {
     "iopub.execute_input": "2020-11-21T05:29:02.028788Z",
     "iopub.status.busy": "2020-11-21T05:29:02.023365Z",
     "iopub.status.idle": "2020-11-21T05:29:02.031839Z",
     "shell.execute_reply": "2020-11-21T05:29:02.031137Z"
    },
    "papermill": {
     "duration": 0.040729,
     "end_time": "2020-11-21T05:29:02.031953",
     "exception": false,
     "start_time": "2020-11-21T05:29:01.991224",
     "status": "completed"
    },
    "tags": []
   },
   "outputs": [],
   "source": [
    "class GaussRankScaler():\n",
    "    def __init__(self):\n",
    "        self.epsilon = 0.001\n",
    "        self.lower = -1 + self.epsilon\n",
    "        self.upper = 1 - self.epsilon\n",
    "        self.range = self.upper - self.lower\n",
    "        \n",
    "    def fit_transform(self, X):\n",
    "        i = np.argsort(X, axis=0)\n",
    "        j = np.argsort(i, axis=0)\n",
    "        \n",
    "        assert (j.min() == 0)\n",
    "        assert (j.max() == len(j) - 1)\n",
    "        \n",
    "        j_range = len(j) - 1\n",
    "        self.divider = j_range / self.range\n",
    "        \n",
    "        transformed = j / self.divider\n",
    "        transformed = transformed - self.upper\n",
    "        transformed = erfinv(transformed)\n",
    "        \n",
    "        return transformed\n",
    "    \n",
    "def gauss_rank_features(train, test, features):\n",
    "    n_train = len(train)\n",
    "    \n",
    "    for f in tqdm(features):\n",
    "        feat = train[f].append(test[f])\n",
    "        feat_transformed = GaussRankScaler().fit_transform(feat)\n",
    "        train[f] = feat_transformed.iloc[:n_train]\n",
    "        test[f] = feat_transformed.iloc[n_train:]\n",
    "        \n",
    "    return train, test"
   ]
  },
  {
   "cell_type": "code",
   "execution_count": 4,
   "metadata": {
    "execution": {
     "iopub.execute_input": "2020-11-21T05:29:02.106659Z",
     "iopub.status.busy": "2020-11-21T05:29:02.095931Z",
     "iopub.status.idle": "2020-11-21T05:29:02.134788Z",
     "shell.execute_reply": "2020-11-21T05:29:02.134225Z"
    },
    "papermill": {
     "duration": 0.078132,
     "end_time": "2020-11-21T05:29:02.134919",
     "exception": false,
     "start_time": "2020-11-21T05:29:02.056787",
     "status": "completed"
    },
    "tags": []
   },
   "outputs": [],
   "source": [
    "from sklearn.model_selection._split import _BaseKFold\n",
    "from sklearn.utils.validation import check_array\n",
    "from sklearn.utils.multiclass import type_of_target\n",
    "from sklearn.utils import check_random_state\n",
    "\n",
    "def IterativeStratification(labels, r, random_state):\n",
    "    \"\"\"This function implements the Iterative Stratification algorithm described\n",
    "    in the following paper:\n",
    "    Sechidis K., Tsoumakas G., Vlahavas I. (2011) On the Stratification of\n",
    "    Multi-Label Data. In: Gunopulos D., Hofmann T., Malerba D., Vazirgiannis M.\n",
    "    (eds) Machine Learning and Knowledge Discovery in Databases. ECML PKDD\n",
    "    2011. Lecture Notes in Computer Science, vol 6913. Springer, Berlin,\n",
    "    Heidelberg.\n",
    "    \"\"\"\n",
    "\n",
    "    n_samples = labels.shape[0]\n",
    "    test_folds = np.zeros(n_samples, dtype=int)\n",
    "\n",
    "    # Calculate the desired number of examples at each subset\n",
    "    c_folds = r * n_samples\n",
    "\n",
    "    # Calculate the desired number of examples of each label at each subset\n",
    "    c_folds_labels = np.outer(r, labels.sum(axis=0))\n",
    "\n",
    "    labels_not_processed_mask = np.ones(n_samples, dtype=bool)\n",
    "\n",
    "    while np.any(labels_not_processed_mask):\n",
    "        # Find the label with the fewest (but at least one) remaining examples,\n",
    "        # breaking ties randomly\n",
    "        num_labels = labels[labels_not_processed_mask].sum(axis=0)\n",
    "\n",
    "        # Handle case where only all-zero labels are left by distributing\n",
    "        # across all folds as evenly as possible (not in original algorithm but\n",
    "        # mentioned in the text). (By handling this case separately, some\n",
    "        # code redundancy is introduced; however, this approach allows for\n",
    "        # decreased execution time when there are a relatively large number\n",
    "        # of all-zero labels.)\n",
    "        if num_labels.sum() == 0:\n",
    "            sample_idxs = np.where(labels_not_processed_mask)[0]\n",
    "\n",
    "            for sample_idx in sample_idxs:\n",
    "                fold_idx = np.where(c_folds == c_folds.max())[0]\n",
    "\n",
    "                if fold_idx.shape[0] > 1:\n",
    "                    fold_idx = fold_idx[random_state.choice(fold_idx.shape[0])]\n",
    "\n",
    "                test_folds[sample_idx] = fold_idx\n",
    "                c_folds[fold_idx] -= 1\n",
    "\n",
    "            break\n",
    "\n",
    "        label_idx = np.where(num_labels == num_labels[np.nonzero(num_labels)].min())[0]\n",
    "        if label_idx.shape[0] > 1:\n",
    "            label_idx = label_idx[random_state.choice(label_idx.shape[0])]\n",
    "\n",
    "        sample_idxs = np.where(np.logical_and(labels[:, label_idx].flatten(), labels_not_processed_mask))[0]\n",
    "\n",
    "        for sample_idx in sample_idxs:\n",
    "            # Find the subset(s) with the largest number of desired examples\n",
    "            # for this label, breaking ties by considering the largest number\n",
    "            # of desired examples, breaking further ties randomly\n",
    "            label_folds = c_folds_labels[:, label_idx]\n",
    "            fold_idx = np.where(label_folds == label_folds.max())[0]\n",
    "\n",
    "            if fold_idx.shape[0] > 1:\n",
    "                temp_fold_idx = np.where(c_folds[fold_idx] ==\n",
    "                                         c_folds[fold_idx].max())[0]\n",
    "                fold_idx = fold_idx[temp_fold_idx]\n",
    "\n",
    "                if temp_fold_idx.shape[0] > 1:\n",
    "                    fold_idx = fold_idx[random_state.choice(temp_fold_idx.shape[0])]\n",
    "\n",
    "            test_folds[sample_idx] = fold_idx\n",
    "            labels_not_processed_mask[sample_idx] = False\n",
    "\n",
    "            # Update desired number of examples\n",
    "            c_folds_labels[fold_idx, labels[sample_idx]] -= 1\n",
    "            c_folds[fold_idx] -= 1\n",
    "\n",
    "    return test_folds\n",
    "\n",
    "\n",
    "class MultilabelStratifiedKFold(_BaseKFold):\n",
    "    \"\"\"Multilabel stratified K-Folds cross-validator\n",
    "    Provides train/test indices to split multilabel data into train/test sets.\n",
    "    This cross-validation object is a variation of KFold that returns\n",
    "    stratified folds for multilabel data. The folds are made by preserving\n",
    "    the percentage of samples for each label.\n",
    "    Parameters\n",
    "    ----------\n",
    "    n_splits : int, default=3\n",
    "        Number of folds. Must be at least 2.\n",
    "    shuffle : boolean, optional\n",
    "        Whether to shuffle each stratification of the data before splitting\n",
    "        into batches.\n",
    "    random_state : int, RandomState instance or None, optional, default=None\n",
    "        If int, random_state is the seed used by the random number generator;\n",
    "        If RandomState instance, random_state is the random number generator;\n",
    "        If None, the random number generator is the RandomState instance used\n",
    "        by `np.random`. Unlike StratifiedKFold that only uses random_state\n",
    "        when ``shuffle`` == True, this multilabel implementation\n",
    "        always uses the random_state since the iterative stratification\n",
    "        algorithm breaks ties randomly.\n",
    "    Examples\n",
    "    --------\n",
    "    >>> from iterstrat.ml_stratifiers import MultilabelStratifiedKFold\n",
    "    >>> import numpy as np\n",
    "    >>> X = np.array([[1,2], [3,4], [1,2], [3,4], [1,2], [3,4], [1,2], [3,4]])\n",
    "    >>> y = np.array([[0,0], [0,0], [0,1], [0,1], [1,1], [1,1], [1,0], [1,0]])\n",
    "    >>> mskf = MultilabelStratifiedKFold(n_splits=2, random_state=0)\n",
    "    >>> mskf.get_n_splits(X, y)\n",
    "    2\n",
    "    >>> print(mskf)  # doctest: +NORMALIZE_WHITESPACE\n",
    "    MultilabelStratifiedKFold(n_splits=2, random_state=0, shuffle=False)\n",
    "    >>> for train_index, test_index in mskf.split(X, y):\n",
    "    ...    print(\"TRAIN:\", train_index, \"TEST:\", test_index)\n",
    "    ...    X_train, X_test = X[train_index], X[test_index]\n",
    "    ...    y_train, y_test = y[train_index], y[test_index]\n",
    "    TRAIN: [0 3 4 6] TEST: [1 2 5 7]\n",
    "    TRAIN: [1 2 5 7] TEST: [0 3 4 6]\n",
    "    Notes\n",
    "    -----\n",
    "    Train and test sizes may be slightly different in each fold.\n",
    "    See also\n",
    "    --------\n",
    "    RepeatedMultilabelStratifiedKFold: Repeats Multilabel Stratified K-Fold\n",
    "    n times.\n",
    "    \"\"\"\n",
    "\n",
    "    def __init__(self, n_splits=3, shuffle=False, random_state=None):\n",
    "        super(MultilabelStratifiedKFold, self).__init__(n_splits, shuffle, random_state)\n",
    "\n",
    "    def _make_test_folds(self, X, y):\n",
    "        y = np.asarray(y, dtype=bool)\n",
    "        type_of_target_y = type_of_target(y)\n",
    "\n",
    "        if type_of_target_y != 'multilabel-indicator':\n",
    "            raise ValueError(\n",
    "                'Supported target type is: multilabel-indicator. Got {!r} instead.'.format(type_of_target_y))\n",
    "\n",
    "        num_samples = y.shape[0]\n",
    "\n",
    "        rng = check_random_state(self.random_state)\n",
    "        indices = np.arange(num_samples)\n",
    "\n",
    "        if self.shuffle:\n",
    "            rng.shuffle(indices)\n",
    "            y = y[indices]\n",
    "\n",
    "        r = np.asarray([1 / self.n_splits] * self.n_splits)\n",
    "\n",
    "        test_folds = IterativeStratification(labels=y, r=r, random_state=rng)\n",
    "\n",
    "        return test_folds[np.argsort(indices)]\n",
    "\n",
    "    def _iter_test_masks(self, X=None, y=None, groups=None):\n",
    "        test_folds = self._make_test_folds(X, y)\n",
    "        for i in range(self.n_splits):\n",
    "            yield test_folds == i\n",
    "\n",
    "    def split(self, X, y, groups=None):\n",
    "        \"\"\"Generate indices to split data into training and test set.\n",
    "        Parameters\n",
    "        ----------\n",
    "        X : array-like, shape (n_samples, n_features)\n",
    "            Training data, where n_samples is the number of samples\n",
    "            and n_features is the number of features.\n",
    "            Note that providing ``y`` is sufficient to generate the splits and\n",
    "            hence ``np.zeros(n_samples)`` may be used as a placeholder for\n",
    "            ``X`` instead of actual training data.\n",
    "        y : array-like, shape (n_samples, n_labels)\n",
    "            The target variable for supervised learning problems.\n",
    "            Multilabel stratification is done based on the y labels.\n",
    "        groups : object\n",
    "            Always ignored, exists for compatibility.\n",
    "        Returns\n",
    "        -------\n",
    "        train : ndarray\n",
    "            The training set indices for that split.\n",
    "        test : ndarray\n",
    "            The testing set indices for that split.\n",
    "        Notes\n",
    "        -----\n",
    "        Randomized CV splitters may return different results for each call of\n",
    "        split. You can make the results identical by setting ``random_state``\n",
    "        to an integer.\n",
    "        \"\"\"\n",
    "        y = check_array(y, ensure_2d=False, dtype=None)\n",
    "        return super(MultilabelStratifiedKFold, self).split(X, y, groups)\n",
    "\n"
   ]
  },
  {
   "cell_type": "code",
   "execution_count": 5,
   "metadata": {
    "execution": {
     "iopub.execute_input": "2020-11-21T05:29:02.193129Z",
     "iopub.status.busy": "2020-11-21T05:29:02.192257Z",
     "iopub.status.idle": "2020-11-21T05:29:02.198728Z",
     "shell.execute_reply": "2020-11-21T05:29:02.198085Z"
    },
    "papermill": {
     "duration": 0.038957,
     "end_time": "2020-11-21T05:29:02.198824",
     "exception": false,
     "start_time": "2020-11-21T05:29:02.159867",
     "status": "completed"
    },
    "tags": []
   },
   "outputs": [],
   "source": [
    "def seed_everything(seed=42):\n",
    "    random.seed(seed)\n",
    "    os.environ['PYTHONHASHSEED'] = str(seed)\n",
    "    np.random.seed(seed)\n",
    "    torch.manual_seed(seed)\n",
    "    torch.cuda.manual_seed(seed)\n",
    "    torch.backends.cudnn.deterministic=True"
   ]
  },
  {
   "cell_type": "markdown",
   "metadata": {
    "papermill": {
     "duration": 0.027364,
     "end_time": "2020-11-21T05:29:02.253458",
     "exception": false,
     "start_time": "2020-11-21T05:29:02.226094",
     "status": "completed"
    },
    "tags": []
   },
   "source": [
    "## Data Preparation"
   ]
  },
  {
   "cell_type": "code",
   "execution_count": 6,
   "metadata": {
    "execution": {
     "iopub.execute_input": "2020-11-21T05:29:02.315040Z",
     "iopub.status.busy": "2020-11-21T05:29:02.314260Z",
     "iopub.status.idle": "2020-11-21T05:29:02.317164Z",
     "shell.execute_reply": "2020-11-21T05:29:02.316661Z"
    },
    "papermill": {
     "duration": 0.037638,
     "end_time": "2020-11-21T05:29:02.317262",
     "exception": false,
     "start_time": "2020-11-21T05:29:02.279624",
     "status": "completed"
    },
    "tags": []
   },
   "outputs": [],
   "source": [
    "ON_KAGGLE = True\n",
    "\n",
    "if ON_KAGGLE:\n",
    "    input_dir = '/kaggle/input/lish-moa'\n",
    "    output_dir = 'nn_04'\n",
    "    if not os.path.isdir(output_dir):\n",
    "        os.mkdir(output_dir)\n",
    "else:\n",
    "    input_dir = '../_data/lish-moa'\n",
    "    output_dir = 'output/nn_04'\n",
    "    \n",
    "    if not os.path.isdir('output'):\n",
    "        os.mkdir('output')\n",
    "        \n",
    "    if not os.path.isdir(output_dir):\n",
    "        os.mkdir(output_dir)"
   ]
  },
  {
   "cell_type": "code",
   "execution_count": 7,
   "metadata": {
    "execution": {
     "iopub.execute_input": "2020-11-21T05:29:02.377331Z",
     "iopub.status.busy": "2020-11-21T05:29:02.376457Z",
     "iopub.status.idle": "2020-11-21T05:29:02.383557Z",
     "shell.execute_reply": "2020-11-21T05:29:02.382940Z"
    },
    "papermill": {
     "duration": 0.037778,
     "end_time": "2020-11-21T05:29:02.383673",
     "exception": false,
     "start_time": "2020-11-21T05:29:02.345895",
     "status": "completed"
    },
    "tags": []
   },
   "outputs": [
    {
     "data": {
      "text/plain": [
       "['sample_submission.csv',\n",
       " 'train_drug.csv',\n",
       " 'train_targets_scored.csv',\n",
       " 'train_targets_nonscored.csv',\n",
       " 'train_features.csv',\n",
       " 'test_features.csv']"
      ]
     },
     "execution_count": 7,
     "metadata": {},
     "output_type": "execute_result"
    }
   ],
   "source": [
    "os.listdir(input_dir)"
   ]
  },
  {
   "cell_type": "code",
   "execution_count": 8,
   "metadata": {
    "execution": {
     "iopub.execute_input": "2020-11-21T05:29:02.446814Z",
     "iopub.status.busy": "2020-11-21T05:29:02.445926Z",
     "iopub.status.idle": "2020-11-21T05:29:09.492846Z",
     "shell.execute_reply": "2020-11-21T05:29:09.491613Z"
    },
    "papermill": {
     "duration": 7.081428,
     "end_time": "2020-11-21T05:29:09.492977",
     "exception": false,
     "start_time": "2020-11-21T05:29:02.411549",
     "status": "completed"
    },
    "tags": []
   },
   "outputs": [],
   "source": [
    "train = pd.read_csv(os.path.join(input_dir, 'train_features.csv'))\n",
    "test = pd.read_csv(os.path.join(input_dir, 'test_features.csv'))\n",
    "\n",
    "targets_scored = pd.read_csv(os.path.join(input_dir, 'train_targets_scored.csv'))\n",
    "targets_nonscored = pd.read_csv(os.path.join(input_dir, 'train_targets_nonscored.csv'))\n",
    "\n",
    "submission = pd.read_csv(os.path.join(input_dir, 'sample_submission.csv'))"
   ]
  },
  {
   "cell_type": "code",
   "execution_count": 9,
   "metadata": {
    "execution": {
     "iopub.execute_input": "2020-11-21T05:29:09.555497Z",
     "iopub.status.busy": "2020-11-21T05:29:09.554199Z",
     "iopub.status.idle": "2020-11-21T05:29:09.556236Z",
     "shell.execute_reply": "2020-11-21T05:29:09.556821Z"
    },
    "papermill": {
     "duration": 0.037324,
     "end_time": "2020-11-21T05:29:09.556950",
     "exception": false,
     "start_time": "2020-11-21T05:29:09.519626",
     "status": "completed"
    },
    "tags": []
   },
   "outputs": [],
   "source": [
    "gene_features = [c for c in train.columns if c.startswith('g-')]\n",
    "cell_features = [c for c in train.columns if c.startswith('c-')]\n",
    "cate_features = ['cp_type', 'cp_time', 'cp_dose']\n",
    "targets = [c for c in targets_scored if c not in ['sig_id']]"
   ]
  },
  {
   "cell_type": "code",
   "execution_count": 10,
   "metadata": {
    "execution": {
     "iopub.execute_input": "2020-11-21T05:29:09.623383Z",
     "iopub.status.busy": "2020-11-21T05:29:09.622176Z",
     "iopub.status.idle": "2020-11-21T05:29:09.759472Z",
     "shell.execute_reply": "2020-11-21T05:29:09.758893Z"
    },
    "papermill": {
     "duration": 0.17481,
     "end_time": "2020-11-21T05:29:09.759619",
     "exception": false,
     "start_time": "2020-11-21T05:29:09.584809",
     "status": "completed"
    },
    "tags": []
   },
   "outputs": [],
   "source": [
    "train = pd.merge(train, targets_scored, on='sig_id', how='left')"
   ]
  },
  {
   "cell_type": "code",
   "execution_count": 11,
   "metadata": {
    "execution": {
     "iopub.execute_input": "2020-11-21T05:29:09.828398Z",
     "iopub.status.busy": "2020-11-21T05:29:09.827118Z",
     "iopub.status.idle": "2020-11-21T05:29:09.943415Z",
     "shell.execute_reply": "2020-11-21T05:29:09.943923Z"
    },
    "papermill": {
     "duration": 0.154549,
     "end_time": "2020-11-21T05:29:09.944054",
     "exception": false,
     "start_time": "2020-11-21T05:29:09.789505",
     "status": "completed"
    },
    "tags": []
   },
   "outputs": [
    {
     "data": {
      "text/plain": [
       "cp_type\n",
       "ctl_vehicle        0\n",
       "trt_cp         16844\n",
       "dtype: int64"
      ]
     },
     "execution_count": 11,
     "metadata": {},
     "output_type": "execute_result"
    }
   ],
   "source": [
    "c = 'cp_type'\n",
    "train.groupby(c)[targets].sum().sum(axis=1)"
   ]
  },
  {
   "cell_type": "code",
   "execution_count": 12,
   "metadata": {
    "execution": {
     "iopub.execute_input": "2020-11-21T05:29:10.012084Z",
     "iopub.status.busy": "2020-11-21T05:29:10.010861Z",
     "iopub.status.idle": "2020-11-21T05:29:10.097332Z",
     "shell.execute_reply": "2020-11-21T05:29:10.096762Z"
    },
    "papermill": {
     "duration": 0.124595,
     "end_time": "2020-11-21T05:29:10.097441",
     "exception": false,
     "start_time": "2020-11-21T05:29:09.972846",
     "status": "completed"
    },
    "tags": []
   },
   "outputs": [],
   "source": [
    "train = train.loc[train['cp_type'] != 'ctl_vehicle']\n",
    "test = test.loc[test['cp_type'] != 'ctl_vehicle']\n",
    "\n",
    "cate_features.remove('cp_type')"
   ]
  },
  {
   "cell_type": "code",
   "execution_count": 13,
   "metadata": {
    "execution": {
     "iopub.execute_input": "2020-11-21T05:29:10.161804Z",
     "iopub.status.busy": "2020-11-21T05:29:10.160771Z",
     "iopub.status.idle": "2020-11-21T05:29:10.166407Z",
     "shell.execute_reply": "2020-11-21T05:29:10.165765Z"
    },
    "papermill": {
     "duration": 0.040365,
     "end_time": "2020-11-21T05:29:10.166541",
     "exception": false,
     "start_time": "2020-11-21T05:29:10.126176",
     "status": "completed"
    },
    "tags": []
   },
   "outputs": [],
   "source": [
    "cp_time_map = {\n",
    "    24: 0,\n",
    "    48: 1,\n",
    "    72: 2\n",
    "}\n",
    "\n",
    "train['cp_time'] = train['cp_time'].map(cp_time_map)\n",
    "test['cp_time'] = test['cp_time'].map(cp_time_map)"
   ]
  },
  {
   "cell_type": "code",
   "execution_count": 14,
   "metadata": {
    "execution": {
     "iopub.execute_input": "2020-11-21T05:29:10.233852Z",
     "iopub.status.busy": "2020-11-21T05:29:10.232658Z",
     "iopub.status.idle": "2020-11-21T05:29:10.435654Z",
     "shell.execute_reply": "2020-11-21T05:29:10.435095Z"
    },
    "papermill": {
     "duration": 0.238384,
     "end_time": "2020-11-21T05:29:10.435776",
     "exception": false,
     "start_time": "2020-11-21T05:29:10.197392",
     "status": "completed"
    },
    "tags": []
   },
   "outputs": [],
   "source": [
    "train, test, dumm_features = cate2dummy(train, test, cate_features)"
   ]
  },
  {
   "cell_type": "code",
   "execution_count": 15,
   "metadata": {
    "execution": {
     "iopub.execute_input": "2020-11-21T05:29:10.496480Z",
     "iopub.status.busy": "2020-11-21T05:29:10.495612Z",
     "iopub.status.idle": "2020-11-21T05:29:18.346550Z",
     "shell.execute_reply": "2020-11-21T05:29:18.343227Z"
    },
    "papermill": {
     "duration": 7.882547,
     "end_time": "2020-11-21T05:29:18.346681",
     "exception": false,
     "start_time": "2020-11-21T05:29:10.464134",
     "status": "completed"
    },
    "tags": []
   },
   "outputs": [
    {
     "data": {
      "application/vnd.jupyter.widget-view+json": {
       "model_id": "8be97335a4704cf290f9578fe69e5bed",
       "version_major": 2,
       "version_minor": 0
      },
      "text/plain": [
       "HBox(children=(FloatProgress(value=0.0, max=872.0), HTML(value='')))"
      ]
     },
     "metadata": {},
     "output_type": "display_data"
    },
    {
     "name": "stdout",
     "output_type": "stream",
     "text": [
      "\n"
     ]
    }
   ],
   "source": [
    "train, test = gauss_rank_features(train, test, gene_features+cell_features)"
   ]
  },
  {
   "cell_type": "markdown",
   "metadata": {
    "papermill": {
     "duration": 0.029197,
     "end_time": "2020-11-21T05:29:18.406111",
     "exception": false,
     "start_time": "2020-11-21T05:29:18.376914",
     "status": "completed"
    },
    "tags": []
   },
   "source": [
    "### Model Construction"
   ]
  },
  {
   "cell_type": "code",
   "execution_count": 16,
   "metadata": {
    "execution": {
     "iopub.execute_input": "2020-11-21T05:29:18.468606Z",
     "iopub.status.busy": "2020-11-21T05:29:18.467841Z",
     "iopub.status.idle": "2020-11-21T05:29:18.470892Z",
     "shell.execute_reply": "2020-11-21T05:29:18.471344Z"
    },
    "papermill": {
     "duration": 0.037492,
     "end_time": "2020-11-21T05:29:18.471478",
     "exception": false,
     "start_time": "2020-11-21T05:29:18.433986",
     "status": "completed"
    },
    "tags": []
   },
   "outputs": [],
   "source": [
    "# all_features = gene_features + cell_features + dumm_features + ['cp_time']\n",
    "all_features = gene_features + cell_features\n",
    "\n",
    "GRADIENT_ACCUMULATION_STEPS = 1\n",
    "MAX_GRAD_NORM = 1000\n",
    "HIDDEN_SIZE = 256\n",
    "DROPOUT = 0.2\n",
    "LEARNING_RATE = 1e-2\n",
    "WEIGHT_DECAY = 1e-6\n",
    "BATCH_SIZE = 32\n",
    "EPOCHS = 20\n",
    "\n",
    "NUM_FEATURES = len(all_features)\n",
    "NUM_TARGETS = len(targets)\n",
    "NUM_FOLDS = 5"
   ]
  },
  {
   "cell_type": "code",
   "execution_count": 17,
   "metadata": {
    "execution": {
     "iopub.execute_input": "2020-11-21T05:29:18.541923Z",
     "iopub.status.busy": "2020-11-21T05:29:18.536608Z",
     "iopub.status.idle": "2020-11-21T05:29:18.544147Z",
     "shell.execute_reply": "2020-11-21T05:29:18.544636Z"
    },
    "papermill": {
     "duration": 0.045788,
     "end_time": "2020-11-21T05:29:18.544781",
     "exception": false,
     "start_time": "2020-11-21T05:29:18.498993",
     "status": "completed"
    },
    "tags": []
   },
   "outputs": [],
   "source": [
    "class MLP(Module):\n",
    "    def __init__(self):\n",
    "        super().__init__()\n",
    "        self.lr1 = nn.utils.weight_norm(nn.Linear(NUM_FEATURES, HIDDEN_SIZE))\n",
    "        self.bn1 = nn.BatchNorm1d(HIDDEN_SIZE)\n",
    "        self.do1 = nn.Dropout(DROPOUT)\n",
    "        self.pr1 = nn.PReLU()\n",
    "        \n",
    "        self.lr2 = nn.utils.weight_norm(nn.Linear(HIDDEN_SIZE, HIDDEN_SIZE))\n",
    "        self.bn2 = nn.BatchNorm1d(HIDDEN_SIZE)\n",
    "        self.do2 = nn.Dropout(DROPOUT)\n",
    "        self.pr2 = nn.PReLU()\n",
    "        \n",
    "#         self.lr3 = nn.utils.weight_norm(nn.Linear(HIDDEN_SIZE, NUM_TARGETS))\n",
    "        self.lr3 = nn.Linear(HIDDEN_SIZE, NUM_TARGETS)\n",
    "        \n",
    "        \n",
    "    def forward(self, x):\n",
    "        x = self.lr1(x)\n",
    "        x = self.bn1(x)\n",
    "        x = self.do1(x)\n",
    "        x = self.pr1(x)\n",
    "\n",
    "        x = self.lr2(x)\n",
    "        x = self.bn2(x)\n",
    "        x = self.do2(x)\n",
    "        x = self.pr2(x)\n",
    "        \n",
    "        x = self.lr3(x)\n",
    "        \n",
    "        return x"
   ]
  },
  {
   "cell_type": "markdown",
   "metadata": {
    "papermill": {
     "duration": 0.028988,
     "end_time": "2020-11-21T05:29:18.604393",
     "exception": false,
     "start_time": "2020-11-21T05:29:18.575405",
     "status": "completed"
    },
    "tags": []
   },
   "source": [
    "### Train and predict framework"
   ]
  },
  {
   "cell_type": "code",
   "execution_count": 18,
   "metadata": {
    "execution": {
     "iopub.execute_input": "2020-11-21T05:29:18.669697Z",
     "iopub.status.busy": "2020-11-21T05:29:18.668942Z",
     "iopub.status.idle": "2020-11-21T05:29:18.673097Z",
     "shell.execute_reply": "2020-11-21T05:29:18.672613Z"
    },
    "papermill": {
     "duration": 0.039283,
     "end_time": "2020-11-21T05:29:18.673184",
     "exception": false,
     "start_time": "2020-11-21T05:29:18.633901",
     "status": "completed"
    },
    "tags": []
   },
   "outputs": [],
   "source": [
    "class TrainDataset(Dataset):\n",
    "    def __init__(self, data, labels):\n",
    "        self.data = data.values\n",
    "        self.labels = labels.values\n",
    "        \n",
    "    def __len__(self):\n",
    "        return len(self.data)\n",
    "    \n",
    "    def __getitem__(self, idx):\n",
    "        X = torch.FloatTensor(self.data[idx])\n",
    "        y = torch.tensor(self.labels[idx]).float()\n",
    "        \n",
    "        return X, y"
   ]
  },
  {
   "cell_type": "code",
   "execution_count": 19,
   "metadata": {
    "execution": {
     "iopub.execute_input": "2020-11-21T05:29:18.738612Z",
     "iopub.status.busy": "2020-11-21T05:29:18.737909Z",
     "iopub.status.idle": "2020-11-21T05:29:18.742623Z",
     "shell.execute_reply": "2020-11-21T05:29:18.742014Z"
    },
    "papermill": {
     "duration": 0.0411,
     "end_time": "2020-11-21T05:29:18.742727",
     "exception": false,
     "start_time": "2020-11-21T05:29:18.701627",
     "status": "completed"
    },
    "tags": []
   },
   "outputs": [],
   "source": [
    "class TestDataset(Dataset):\n",
    "    def __init__(self, data):\n",
    "        self.data = data.values\n",
    "        \n",
    "    def __len__(self):\n",
    "        return len(self.data)\n",
    "    \n",
    "    def __getitem__(self, idx):\n",
    "        X = torch.FloatTensor(self.data[idx])\n",
    "        return X"
   ]
  },
  {
   "cell_type": "code",
   "execution_count": 20,
   "metadata": {
    "execution": {
     "iopub.execute_input": "2020-11-21T05:29:18.811011Z",
     "iopub.status.busy": "2020-11-21T05:29:18.810252Z",
     "iopub.status.idle": "2020-11-21T05:29:18.814237Z",
     "shell.execute_reply": "2020-11-21T05:29:18.813684Z"
    },
    "papermill": {
     "duration": 0.040862,
     "end_time": "2020-11-21T05:29:18.814339",
     "exception": false,
     "start_time": "2020-11-21T05:29:18.773477",
     "status": "completed"
    },
    "tags": []
   },
   "outputs": [],
   "source": [
    "class AverageMeter(object):\n",
    "    \"\"\"Compute and stores the average and current value\"\"\"\n",
    "    def __init__(self):\n",
    "        self.reset()\n",
    "        \n",
    "    def reset(self):\n",
    "        self.val = 0\n",
    "        self.avg = 0\n",
    "        self.sum = 0\n",
    "        self.count = 0\n",
    "        \n",
    "    def update(self, val, n=1):\n",
    "        self.val = val\n",
    "        self.sum += val * n\n",
    "        self.count += n\n",
    "        self.avg = (self.sum / self.count)"
   ]
  },
  {
   "cell_type": "code",
   "execution_count": 21,
   "metadata": {
    "execution": {
     "iopub.execute_input": "2020-11-21T05:29:18.883616Z",
     "iopub.status.busy": "2020-11-21T05:29:18.881779Z",
     "iopub.status.idle": "2020-11-21T05:29:18.884376Z",
     "shell.execute_reply": "2020-11-21T05:29:18.884855Z"
    },
    "papermill": {
     "duration": 0.042012,
     "end_time": "2020-11-21T05:29:18.884966",
     "exception": false,
     "start_time": "2020-11-21T05:29:18.842954",
     "status": "completed"
    },
    "tags": []
   },
   "outputs": [],
   "source": [
    "def train_fn(train_loader,\n",
    "             model,\n",
    "             optimizer,\n",
    "             epoch,\n",
    "             scheduler,\n",
    "             device):\n",
    "    losses = AverageMeter()\n",
    "    \n",
    "    model.train()\n",
    "    \n",
    "    for step, (X, y) in enumerate(train_loader):\n",
    "        X, y = X.to(device), y.to(device)\n",
    "        \n",
    "        batch_size = X.size(0)\n",
    "        pred = model(X)\n",
    "        loss = nn.BCEWithLogitsLoss()(pred, y)\n",
    "        losses.update(loss.item(), batch_size)\n",
    "        \n",
    "        if GRADIENT_ACCUMULATION_STEPS > 1:\n",
    "            loss /= GRADIENT_ACCUMULATION_STEPS\n",
    "        \n",
    "        loss.backward()\n",
    "        \n",
    "        grad_norm = nn.utils.clip_grad_norm_(model.parameters(), MAX_GRAD_NORM)\n",
    "        \n",
    "        if (step + 1) % GRADIENT_ACCUMULATION_STEPS == 0:\n",
    "            scheduler.step()\n",
    "            optimizer.step()\n",
    "            optimizer.zero_grad()\n",
    "            \n",
    "    return losses.avg"
   ]
  },
  {
   "cell_type": "code",
   "execution_count": 22,
   "metadata": {
    "execution": {
     "iopub.execute_input": "2020-11-21T05:29:18.953842Z",
     "iopub.status.busy": "2020-11-21T05:29:18.950884Z",
     "iopub.status.idle": "2020-11-21T05:29:18.956492Z",
     "shell.execute_reply": "2020-11-21T05:29:18.955988Z"
    },
    "papermill": {
     "duration": 0.043062,
     "end_time": "2020-11-21T05:29:18.956605",
     "exception": false,
     "start_time": "2020-11-21T05:29:18.913543",
     "status": "completed"
    },
    "tags": []
   },
   "outputs": [],
   "source": [
    "def validate_fn(valid_loader, model, device):\n",
    "    losses = AverageMeter()\n",
    "    model.eval()\n",
    "    val_preds = []\n",
    "    \n",
    "    for step, (X, y) in enumerate(valid_loader):\n",
    "        X, y = X.to(device), y.to(device)\n",
    "        batch_size = X.size(0)\n",
    "                \n",
    "        with torch.no_grad():\n",
    "            pred = model(X)\n",
    "            \n",
    "        loss = nn.BCEWithLogitsLoss()(pred, y)\n",
    "        \n",
    "        losses.update(loss.item(), batch_size)\n",
    "        \n",
    "#         tmp = pred.sigmoid().detach().cpu().numpy()\n",
    "#         print(tmp.shape)\n",
    "#         val_preds.append(tmp)\n",
    "        val_preds.append(pred.sigmoid().detach().cpu().numpy())\n",
    "        \n",
    "        if GRADIENT_ACCUMULATION_STEPS > 1:\n",
    "            loss /= GRADIENT_ACCUMULATION_STEPS\n",
    "            \n",
    "    val_preds = np.concatenate(val_preds)\n",
    "    \n",
    "    return losses.avg, val_preds"
   ]
  },
  {
   "cell_type": "code",
   "execution_count": 23,
   "metadata": {
    "execution": {
     "iopub.execute_input": "2020-11-21T05:29:19.025330Z",
     "iopub.status.busy": "2020-11-21T05:29:19.024627Z",
     "iopub.status.idle": "2020-11-21T05:29:19.028460Z",
     "shell.execute_reply": "2020-11-21T05:29:19.027946Z"
    },
    "papermill": {
     "duration": 0.040457,
     "end_time": "2020-11-21T05:29:19.028594",
     "exception": false,
     "start_time": "2020-11-21T05:29:18.988137",
     "status": "completed"
    },
    "tags": []
   },
   "outputs": [],
   "source": [
    "def inference_fn(test_loader, model, device):\n",
    "    model.eval()\n",
    "    preds = []\n",
    "\n",
    "    for step, (X) in enumerate(test_loader):\n",
    "        X = X.to(device)\n",
    "        \n",
    "        with torch.no_grad():\n",
    "            pred = model(X)\n",
    "            \n",
    "        preds.append(pred.sigmoid().detach().cpu().numpy())\n",
    "\n",
    "    preds = np.concatenate(preds)\n",
    "    \n",
    "    return preds"
   ]
  },
  {
   "cell_type": "code",
   "execution_count": 24,
   "metadata": {
    "execution": {
     "iopub.execute_input": "2020-11-21T05:29:19.112585Z",
     "iopub.status.busy": "2020-11-21T05:29:19.110609Z",
     "iopub.status.idle": "2020-11-21T05:29:19.114524Z",
     "shell.execute_reply": "2020-11-21T05:29:19.113981Z"
    },
    "papermill": {
     "duration": 0.055242,
     "end_time": "2020-11-21T05:29:19.114642",
     "exception": false,
     "start_time": "2020-11-21T05:29:19.059400",
     "status": "completed"
    },
    "tags": []
   },
   "outputs": [],
   "source": [
    "def run_single_fold(train,\n",
    "                    test,\n",
    "                    features,\n",
    "                    targets,\n",
    "                    device,\n",
    "                    fold_num=0,\n",
    "                    seed=42):\n",
    "    \n",
    "    model_file = os.path.join(output_dir, f'fold{fold_num}_seed{seed}.pth')\n",
    "    seed_everything(seed)\n",
    "    \n",
    "    train_index = train.loc[train['fold'] != fold_num].index\n",
    "    valid_index = train.loc[train['fold'] == fold_num].index\n",
    "    \n",
    "    train_data = train.loc[train_index][features].reset_index(drop=True)\n",
    "    valid_data = train.loc[valid_index][features].reset_index(drop=True)\n",
    "    \n",
    "    train_targets = train.loc[train_index][targets]\n",
    "    valid_targets = train.loc[valid_index][targets]\n",
    "    \n",
    "    train_dataset = TrainDataset(train_data, train_targets)\n",
    "    valid_dataset = TrainDataset(valid_data, valid_targets)\n",
    "    \n",
    "    train_loader = DataLoader(train_dataset, batch_size=BATCH_SIZE, shuffle=True, num_workers=4, pin_memory=True, drop_last=True)\n",
    "    valid_loader = DataLoader(valid_dataset, batch_size=BATCH_SIZE, shuffle=False, num_workers=4, pin_memory=True, drop_last=False)\n",
    "    \n",
    "    # model\n",
    "    model = MLP()\n",
    "    model.to(device)\n",
    "    \n",
    "    optimizer = optim.Adam(model.parameters(),\n",
    "                           lr=LEARNING_RATE,\n",
    "                           weight_decay=WEIGHT_DECAY)\n",
    "    \n",
    "    scheduler = optim.lr_scheduler.OneCycleLR(optimizer=optimizer,\n",
    "                                              pct_start=0.1,\n",
    "                                              div_factor=1e3,\n",
    "                                              max_lr=1e-2,\n",
    "                                              epochs=EPOCHS,\n",
    "                                              steps_per_epoch=len(train_loader))\n",
    "    \n",
    "\n",
    "    # train & valid\n",
    "    best_loss = np.inf\n",
    "    for epoch in range(EPOCHS):\n",
    "        train_loss = train_fn(train_loader,\n",
    "                              model,\n",
    "                              optimizer,\n",
    "                              epoch,\n",
    "                              scheduler,\n",
    "                              device)\n",
    "        \n",
    "        valid_loss, valid_pred = validate_fn(valid_loader, model, device)        \n",
    "        \n",
    "        if valid_loss < best_loss:\n",
    "            print(f'epoch{epoch} save best model ... {train_loss}, {valid_loss}')\n",
    "            best_loss = valid_loss\n",
    "            oof = np.zeros((len(train), len(targets)))\n",
    "            oof[valid_index] = valid_pred\n",
    "            torch.save(model.state_dict(), model_file)\n",
    "            \n",
    "    # predictions\n",
    "    test_dataset = TestDataset(test[features])\n",
    "    test_loader = DataLoader(test_dataset, batch_size=BATCH_SIZE, shuffle=False, num_workers=4, pin_memory=True)\n",
    "    \n",
    "    model = MLP()\n",
    "    model.load_state_dict(torch.load(model_file))\n",
    "    model.to(device)\n",
    "    \n",
    "    predictions = inference_fn(test_loader, model, device)\n",
    "    \n",
    "    # delete\n",
    "    torch.cuda.empty_cache()\n",
    "    \n",
    "    return oof, predictions"
   ]
  },
  {
   "cell_type": "code",
   "execution_count": 25,
   "metadata": {
    "execution": {
     "iopub.execute_input": "2020-11-21T05:29:19.187620Z",
     "iopub.status.busy": "2020-11-21T05:29:19.182981Z",
     "iopub.status.idle": "2020-11-21T05:29:19.189888Z",
     "shell.execute_reply": "2020-11-21T05:29:19.190405Z"
    },
    "papermill": {
     "duration": 0.04574,
     "end_time": "2020-11-21T05:29:19.190554",
     "exception": false,
     "start_time": "2020-11-21T05:29:19.144814",
     "status": "completed"
    },
    "tags": []
   },
   "outputs": [],
   "source": [
    "def run_oof(train,\n",
    "            test, \n",
    "            features,\n",
    "            targets,\n",
    "            device,\n",
    "            n_fold=5,\n",
    "            seed=42):\n",
    "    \n",
    "    oof = np.zeros((len(train), len(targets)))\n",
    "    predictions = np.zeros((len(test), len(targets)))\n",
    "        \n",
    "    train['fold'] = 0\n",
    "    mlskf = MultilabelStratifiedKFold(n_splits = NUM_FOLDS, shuffle=True, random_state=seed)\n",
    "    for n, (train_index, valid_index) in enumerate(mlskf.split(train, train[targets])):\n",
    "        train.loc[valid_index, 'fold'] = int(n)\n",
    "        \n",
    "    for _fold in range(n_fold):\n",
    "        print(f'Fold {_fold+1}')\n",
    "        _oof, _predictions = run_single_fold(train,\n",
    "                                             test,\n",
    "                                             features,\n",
    "                                             targets,\n",
    "                                             device,\n",
    "                                             fold_num=_fold,\n",
    "                                             seed=seed)\n",
    "        oof += _oof\n",
    "        predictions += (_predictions / n_fold)\n",
    "        \n",
    "    score = 0\n",
    "    for i, t in enumerate(targets):\n",
    "        _score = log_loss(train[t].values, oof[:, i])\n",
    "        score += (_score / NUM_TARGETS)\n",
    "    \n",
    "    print(f'CV score: {score}')\n",
    "    \n",
    "    return oof, predictions"
   ]
  },
  {
   "cell_type": "code",
   "execution_count": 26,
   "metadata": {
    "execution": {
     "iopub.execute_input": "2020-11-21T05:29:19.264787Z",
     "iopub.status.busy": "2020-11-21T05:29:19.263581Z",
     "iopub.status.idle": "2020-11-21T05:55:22.565432Z",
     "shell.execute_reply": "2020-11-21T05:55:22.566098Z"
    },
    "papermill": {
     "duration": 1563.345303,
     "end_time": "2020-11-21T05:55:22.566301",
     "exception": false,
     "start_time": "2020-11-21T05:29:19.220998",
     "status": "completed"
    },
    "tags": []
   },
   "outputs": [
    {
     "name": "stdout",
     "output_type": "stream",
     "text": [
      "Fold 1\n",
      "epoch0 save best model ... 0.17508736338439215, 0.019126924133791037\n",
      "epoch1 save best model ... 0.01920696488839921, 0.018345951684724093\n",
      "epoch2 save best model ... 0.018470045422156252, 0.018054482946161746\n",
      "epoch3 save best model ... 0.017699001275383642, 0.017430316765471618\n",
      "epoch5 save best model ... 0.016607457698819085, 0.017112967884560588\n",
      "epoch6 save best model ... 0.01627603340316156, 0.01685258479885236\n",
      "Fold 2\n",
      "epoch0 save best model ... 0.17527319428198257, 0.019047887119899364\n",
      "epoch1 save best model ... 0.0191508216875177, 0.01867939341294722\n",
      "epoch2 save best model ... 0.018442467765977782, 0.018165439084226572\n",
      "epoch3 save best model ... 0.017585459894357915, 0.01790745940426945\n",
      "epoch4 save best model ... 0.01701124234933977, 0.017423877034206465\n",
      "epoch5 save best model ... 0.016597207647537554, 0.01712571407544583\n",
      "epoch8 save best model ... 0.015714313032744575, 0.01711906118441087\n",
      "epoch9 save best model ... 0.015490232254752385, 0.017094856923826736\n",
      "epoch11 save best model ... 0.014648023122636071, 0.01697495814788841\n",
      "Fold 3\n",
      "epoch0 save best model ... 0.17518673734365534, 0.019687086923349147\n",
      "epoch1 save best model ... 0.019166469426118653, 0.018314945757185407\n",
      "epoch2 save best model ... 0.01848276294122049, 0.01781123949465149\n",
      "epoch3 save best model ... 0.017641676827775735, 0.017798648676612246\n",
      "epoch4 save best model ... 0.017064406991983853, 0.017658640694187145\n",
      "epoch5 save best model ... 0.016649072344013808, 0.017548654569580234\n",
      "epoch6 save best model ... 0.016365657659097962, 0.017206383270799163\n",
      "epoch8 save best model ... 0.015765368008822965, 0.01696887444704771\n",
      "Fold 4\n",
      "epoch0 save best model ... 0.17520817050227663, 0.019069132877509522\n",
      "epoch1 save best model ... 0.019159631242798847, 0.018160726376098488\n",
      "epoch3 save best model ... 0.01773442254558097, 0.01748140051044473\n",
      "epoch5 save best model ... 0.016600812168411205, 0.017012444511480238\n",
      "epoch8 save best model ... 0.015759034134977815, 0.0169861034933554\n",
      "epoch10 save best model ... 0.015043603681218232, 0.016966642739552503\n",
      "epoch11 save best model ... 0.014630196919413216, 0.016909922322084395\n",
      "epoch12 save best model ... 0.014013040883901672, 0.01686448180551613\n",
      "Fold 5\n",
      "epoch0 save best model ... 0.1752018531016244, 0.01948131997486182\n",
      "epoch1 save best model ... 0.01912718602578516, 0.018938987165825243\n",
      "epoch2 save best model ... 0.018479048587164305, 0.01801915546552467\n",
      "epoch3 save best model ... 0.017803977896207874, 0.01755247692787566\n",
      "epoch4 save best model ... 0.017083611988537285, 0.017485015902133628\n",
      "epoch5 save best model ... 0.016637426105932922, 0.017446650778938397\n",
      "epoch6 save best model ... 0.016349754245258377, 0.017271025098249283\n",
      "epoch7 save best model ... 0.016054657270900743, 0.017126787780170967\n",
      "epoch8 save best model ... 0.01574064171907023, 0.01695690623448487\n",
      "CV score: 0.01692356190203201\n",
      "Fold 1\n",
      "epoch0 save best model ... 0.1725129438360242, 0.01901931859791367\n",
      "epoch1 save best model ... 0.01923380520221961, 0.018611230717929056\n",
      "epoch2 save best model ... 0.018418107604961435, 0.017950110532463065\n",
      "epoch4 save best model ... 0.017103317018639107, 0.017474173595350067\n",
      "epoch5 save best model ... 0.016457042216670013, 0.017421536327853857\n",
      "epoch7 save best model ... 0.01584797890272236, 0.01709684743729498\n",
      "Fold 2\n",
      "epoch0 save best model ... 0.17245865799656587, 0.01927433851851757\n",
      "epoch1 save best model ... 0.019238754544393534, 0.018456015155432163\n",
      "epoch2 save best model ... 0.018516729409079048, 0.017985019936376932\n",
      "epoch3 save best model ... 0.017764150141228507, 0.017415668050374557\n",
      "epoch4 save best model ... 0.01715186971110584, 0.017225505212631612\n",
      "epoch5 save best model ... 0.016676037861238214, 0.017179010369749167\n",
      "epoch6 save best model ... 0.0163514272235062, 0.017023174840625977\n",
      "epoch7 save best model ... 0.01612120529850877, 0.017013414619078942\n",
      "epoch8 save best model ... 0.015909296863229713, 0.01684586420689194\n",
      "epoch10 save best model ... 0.015234092731423078, 0.01681357659781373\n",
      "epoch11 save best model ... 0.014743242328680616, 0.01674681336179817\n",
      "Fold 3\n",
      "epoch0 save best model ... 0.1725929193759514, 0.019660589666933154\n",
      "epoch1 save best model ... 0.01914323642883912, 0.018264727059672813\n",
      "epoch2 save best model ... 0.018446831651249506, 0.01807301272153277\n",
      "epoch3 save best model ... 0.017627187700343938, 0.017699576266692205\n",
      "epoch4 save best model ... 0.017016252281864847, 0.017453176849605512\n",
      "epoch5 save best model ... 0.016616627082813286, 0.017074936752602896\n",
      "epoch8 save best model ... 0.015668774798621228, 0.01704554054945517\n",
      "epoch9 save best model ... 0.015483133396283336, 0.01700524368494627\n",
      "Fold 4\n",
      "epoch0 save best model ... 0.1727017094568098, 0.018934235238132823\n",
      "epoch1 save best model ... 0.01916312785771587, 0.01803343238516929\n",
      "epoch2 save best model ... 0.01851561944591847, 0.017820383896011698\n",
      "epoch3 save best model ... 0.017763800276647302, 0.01720762552528012\n",
      "epoch6 save best model ... 0.01627832736112993, 0.017044229942091777\n",
      "epoch7 save best model ... 0.016045149920481075, 0.016775424356714468\n",
      "epoch10 save best model ... 0.015132519280551558, 0.016732929327900697\n",
      "epoch11 save best model ... 0.014700971872640951, 0.016696241374099988\n",
      "epoch12 save best model ... 0.014098304390982065, 0.016659494151694355\n",
      "Fold 5\n",
      "epoch0 save best model ... 0.1727086484812907, 0.0192709292567299\n",
      "epoch1 save best model ... 0.01917105735735084, 0.018687736662635093\n",
      "epoch2 save best model ... 0.01852659443835218, 0.017805909369234207\n",
      "epoch3 save best model ... 0.017704295815328938, 0.017523715708294463\n",
      "epoch4 save best model ... 0.017079944302579458, 0.017224478084755242\n",
      "epoch6 save best model ... 0.016274132765829563, 0.01714842897247956\n",
      "epoch7 save best model ... 0.016082798445216605, 0.017008455496086212\n",
      "epoch8 save best model ... 0.015840229897821037, 0.01698072073272597\n",
      "epoch9 save best model ... 0.015511052451864646, 0.016859742090241783\n",
      "CV score: 0.016873611940851893\n",
      "Fold 1\n",
      "epoch0 save best model ... 0.17354647224483483, 0.019506202645786532\n",
      "epoch1 save best model ... 0.019106591001397718, 0.018804177411901924\n",
      "epoch2 save best model ... 0.018603301680150584, 0.017875496571743543\n",
      "epoch3 save best model ... 0.017788076926240303, 0.0176461543573877\n",
      "epoch4 save best model ... 0.01714303671300792, 0.017383076828015556\n",
      "epoch6 save best model ... 0.016324065316359708, 0.017236896395547516\n",
      "epoch7 save best model ... 0.015980205722968942, 0.01699588299646193\n",
      "epoch10 save best model ... 0.015207021709626718, 0.016918380930171197\n",
      "Fold 2\n",
      "epoch0 save best model ... 0.17369362901739885, 0.01916184753568291\n",
      "epoch1 save best model ... 0.0191390933706867, 0.01866647475317382\n",
      "epoch2 save best model ... 0.01845252443526457, 0.018279875797769372\n",
      "epoch3 save best model ... 0.017701678611949958, 0.017725173640918978\n",
      "epoch4 save best model ... 0.017043180391532336, 0.017232087186579485\n",
      "epoch7 save best model ... 0.016065915254536118, 0.01713696580764698\n",
      "epoch9 save best model ... 0.015472535980375905, 0.016982860502053377\n",
      "Fold 3\n",
      "epoch0 save best model ... 0.17353071641503243, 0.019589519969151613\n",
      "epoch1 save best model ... 0.01923241085427249, 0.018747288717597656\n",
      "epoch2 save best model ... 0.01846470882823813, 0.017692112141969807\n",
      "epoch4 save best model ... 0.017170157164579977, 0.017198739373093314\n",
      "epoch5 save best model ... 0.0166755980305564, 0.017169950722986174\n",
      "epoch7 save best model ... 0.016101916859361486, 0.017065086183912524\n",
      "epoch8 save best model ... 0.015811844100074395, 0.01691439288555897\n",
      "epoch9 save best model ... 0.015508425109305956, 0.016881654080181704\n",
      "epoch10 save best model ... 0.015128810208521946, 0.016879516626773974\n",
      "epoch11 save best model ... 0.014833918915395318, 0.016874008181723417\n",
      "epoch12 save best model ... 0.014166677325630874, 0.0168432781073967\n",
      "Fold 4\n",
      "epoch0 save best model ... 0.17342243948441516, 0.019397523911385574\n",
      "epoch1 save best model ... 0.01917616029637084, 0.018582897239570465\n",
      "epoch2 save best model ... 0.018577640419010156, 0.017558177385759245\n",
      "epoch3 save best model ... 0.017732036814950135, 0.01737878819702698\n",
      "epoch4 save best model ... 0.017046921993571804, 0.017085623464298885\n",
      "epoch5 save best model ... 0.01668202844584347, 0.01705613713499354\n",
      "epoch6 save best model ... 0.016319904026038348, 0.01686372043085465\n",
      "epoch9 save best model ... 0.01562785564745049, 0.016775506922385417\n",
      "Fold 5\n",
      "epoch0 save best model ... 0.17356816926685564, 0.01908306660006274\n",
      "epoch1 save best model ... 0.0191260168675578, 0.018667170124357205\n",
      "epoch2 save best model ... 0.018474896372139563, 0.018165189664200623\n",
      "epoch3 save best model ... 0.017617575871846536, 0.017766517296935926\n",
      "epoch4 save best model ... 0.017046515979416615, 0.0174868031856675\n",
      "epoch5 save best model ... 0.01663501762927775, 0.017332081208512692\n",
      "epoch6 save best model ... 0.016148707305971722, 0.01717292366468314\n",
      "epoch7 save best model ... 0.01600328153747059, 0.017095470203243333\n",
      "epoch8 save best model ... 0.015711110324877566, 0.016921355872013745\n",
      "CV score: 0.016888270682523705\n",
      "Seed Averaged CV score : 0.01610134301008748\n"
     ]
    }
   ],
   "source": [
    "# Seed Averaging for solid result\n",
    "\n",
    "oof = np.zeros((len(train), NUM_TARGETS))\n",
    "predictions = np.zeros((len(test), NUM_TARGETS))\n",
    "\n",
    "SEED = [0, 1, 2]\n",
    "\n",
    "for seed in SEED:\n",
    "    _oof, _predictions = run_oof(train,\n",
    "                                 test,\n",
    "                                 all_features,\n",
    "                                 targets,\n",
    "                                 device,\n",
    "                                 n_fold=5,\n",
    "                                 seed=seed)\n",
    "    \n",
    "    oof += (_oof / len(SEED))\n",
    "    predictions += (_predictions / len(SEED))\n",
    "    \n",
    "score = 0\n",
    "for i, t in enumerate(targets):\n",
    "    _score = log_loss(train[t].values, oof[:, i])\n",
    "    score += (_score / NUM_TARGETS)\n",
    "    \n",
    "print(f'Seed Averaged CV score : {score}')"
   ]
  },
  {
   "cell_type": "code",
   "execution_count": 27,
   "metadata": {
    "execution": {
     "iopub.execute_input": "2020-11-21T05:55:22.821901Z",
     "iopub.status.busy": "2020-11-21T05:55:22.821013Z",
     "iopub.status.idle": "2020-11-21T05:55:40.364255Z",
     "shell.execute_reply": "2020-11-21T05:55:40.363024Z"
    },
    "papermill": {
     "duration": 17.675019,
     "end_time": "2020-11-21T05:55:40.364393",
     "exception": false,
     "start_time": "2020-11-21T05:55:22.689374",
     "status": "completed"
    },
    "tags": []
   },
   "outputs": [],
   "source": [
    "train[targets] = oof\n",
    "train[['sig_id'] + targets].to_csv(os.path.join(output_dir, 'oof.csv'), index=False)\n",
    "\n",
    "for c in targets:\n",
    "    test[c] = 0\n",
    "    \n",
    "test[targets] = predictions\n",
    "test[['sig_id'] + targets].to_csv(os.path.join(output_dir, 'pred.csv'), index=False)"
   ]
  },
  {
   "cell_type": "code",
   "execution_count": 28,
   "metadata": {
    "execution": {
     "iopub.execute_input": "2020-11-21T05:55:40.556982Z",
     "iopub.status.busy": "2020-11-21T05:55:40.555306Z",
     "iopub.status.idle": "2020-11-21T05:55:41.674939Z",
     "shell.execute_reply": "2020-11-21T05:55:41.675614Z"
    },
    "papermill": {
     "duration": 1.227159,
     "end_time": "2020-11-21T05:55:41.675815",
     "exception": false,
     "start_time": "2020-11-21T05:55:40.448656",
     "status": "completed"
    },
    "tags": []
   },
   "outputs": [
    {
     "name": "stdout",
     "output_type": "stream",
     "text": [
      "Final result : 0.014839685747266391\n"
     ]
    }
   ],
   "source": [
    "result = targets_scored.drop(columns=targets).merge(train[['sig_id'] + targets], on='sig_id', how='left').fillna(0)\n",
    "\n",
    "y_true = targets_scored[targets].values\n",
    "y_pred = result[targets].values\n",
    "\n",
    "score = 0\n",
    "for i in range(NUM_TARGETS):\n",
    "    _score = log_loss(y_true[:, i], y_pred[:, i])\n",
    "    score += (_score / NUM_TARGETS)\n",
    "    \n",
    "print(f'Final result : {score}')"
   ]
  },
  {
   "cell_type": "markdown",
   "metadata": {
    "papermill": {
     "duration": 0.10572,
     "end_time": "2020-11-21T05:55:41.876120",
     "exception": false,
     "start_time": "2020-11-21T05:55:41.770400",
     "status": "completed"
    },
    "tags": []
   },
   "source": [
    "### Submit"
   ]
  },
  {
   "cell_type": "code",
   "execution_count": 29,
   "metadata": {
    "execution": {
     "iopub.execute_input": "2020-11-21T05:55:42.070221Z",
     "iopub.status.busy": "2020-11-21T05:55:42.069231Z",
     "iopub.status.idle": "2020-11-21T05:55:42.074060Z",
     "shell.execute_reply": "2020-11-21T05:55:42.073095Z"
    },
    "papermill": {
     "duration": 0.092538,
     "end_time": "2020-11-21T05:55:42.074172",
     "exception": false,
     "start_time": "2020-11-21T05:55:41.981634",
     "status": "completed"
    },
    "tags": []
   },
   "outputs": [],
   "source": [
    "if ON_KAGGLE:\n",
    "    sub_file = 'submission.csv'\n",
    "else:\n",
    "    sub_file = os.path.join(output_dir, 'submission.csv')"
   ]
  },
  {
   "cell_type": "code",
   "execution_count": 30,
   "metadata": {
    "execution": {
     "iopub.execute_input": "2020-11-21T05:55:42.265187Z",
     "iopub.status.busy": "2020-11-21T05:55:42.263830Z",
     "iopub.status.idle": "2020-11-21T05:55:44.238206Z",
     "shell.execute_reply": "2020-11-21T05:55:44.237325Z"
    },
    "papermill": {
     "duration": 2.078678,
     "end_time": "2020-11-21T05:55:44.238329",
     "exception": false,
     "start_time": "2020-11-21T05:55:42.159651",
     "status": "completed"
    },
    "tags": []
   },
   "outputs": [
    {
     "data": {
      "text/html": [
       "<div>\n",
       "<style scoped>\n",
       "    .dataframe tbody tr th:only-of-type {\n",
       "        vertical-align: middle;\n",
       "    }\n",
       "\n",
       "    .dataframe tbody tr th {\n",
       "        vertical-align: top;\n",
       "    }\n",
       "\n",
       "    .dataframe thead th {\n",
       "        text-align: right;\n",
       "    }\n",
       "</style>\n",
       "<table border=\"1\" class=\"dataframe\">\n",
       "  <thead>\n",
       "    <tr style=\"text-align: right;\">\n",
       "      <th></th>\n",
       "      <th>sig_id</th>\n",
       "      <th>5-alpha_reductase_inhibitor</th>\n",
       "      <th>11-beta-hsd1_inhibitor</th>\n",
       "      <th>acat_inhibitor</th>\n",
       "      <th>acetylcholine_receptor_agonist</th>\n",
       "      <th>acetylcholine_receptor_antagonist</th>\n",
       "      <th>acetylcholinesterase_inhibitor</th>\n",
       "      <th>adenosine_receptor_agonist</th>\n",
       "      <th>adenosine_receptor_antagonist</th>\n",
       "      <th>adenylyl_cyclase_activator</th>\n",
       "      <th>...</th>\n",
       "      <th>tropomyosin_receptor_kinase_inhibitor</th>\n",
       "      <th>trpv_agonist</th>\n",
       "      <th>trpv_antagonist</th>\n",
       "      <th>tubulin_inhibitor</th>\n",
       "      <th>tyrosine_kinase_inhibitor</th>\n",
       "      <th>ubiquitin_specific_protease_inhibitor</th>\n",
       "      <th>vegfr_inhibitor</th>\n",
       "      <th>vitamin_b</th>\n",
       "      <th>vitamin_d_receptor_agonist</th>\n",
       "      <th>wnt_inhibitor</th>\n",
       "    </tr>\n",
       "  </thead>\n",
       "  <tbody>\n",
       "    <tr>\n",
       "      <th>0</th>\n",
       "      <td>id_0004d9e33</td>\n",
       "      <td>0.000546</td>\n",
       "      <td>0.001132</td>\n",
       "      <td>0.003094</td>\n",
       "      <td>0.013157</td>\n",
       "      <td>0.015715</td>\n",
       "      <td>0.004966</td>\n",
       "      <td>0.001095</td>\n",
       "      <td>0.006447</td>\n",
       "      <td>0.000092</td>\n",
       "      <td>...</td>\n",
       "      <td>0.000777</td>\n",
       "      <td>0.001315</td>\n",
       "      <td>0.004643</td>\n",
       "      <td>0.000822</td>\n",
       "      <td>0.000381</td>\n",
       "      <td>0.000568</td>\n",
       "      <td>0.000549</td>\n",
       "      <td>0.001466</td>\n",
       "      <td>0.009638</td>\n",
       "      <td>0.001732</td>\n",
       "    </tr>\n",
       "    <tr>\n",
       "      <th>1</th>\n",
       "      <td>id_001897cda</td>\n",
       "      <td>0.000398</td>\n",
       "      <td>0.000658</td>\n",
       "      <td>0.001894</td>\n",
       "      <td>0.001871</td>\n",
       "      <td>0.001644</td>\n",
       "      <td>0.001835</td>\n",
       "      <td>0.004666</td>\n",
       "      <td>0.013775</td>\n",
       "      <td>0.011285</td>\n",
       "      <td>...</td>\n",
       "      <td>0.000551</td>\n",
       "      <td>0.000990</td>\n",
       "      <td>0.003552</td>\n",
       "      <td>0.000219</td>\n",
       "      <td>0.013174</td>\n",
       "      <td>0.000378</td>\n",
       "      <td>0.008563</td>\n",
       "      <td>0.000687</td>\n",
       "      <td>0.005651</td>\n",
       "      <td>0.004113</td>\n",
       "    </tr>\n",
       "    <tr>\n",
       "      <th>2</th>\n",
       "      <td>id_002429b5b</td>\n",
       "      <td>0.000000</td>\n",
       "      <td>0.000000</td>\n",
       "      <td>0.000000</td>\n",
       "      <td>0.000000</td>\n",
       "      <td>0.000000</td>\n",
       "      <td>0.000000</td>\n",
       "      <td>0.000000</td>\n",
       "      <td>0.000000</td>\n",
       "      <td>0.000000</td>\n",
       "      <td>...</td>\n",
       "      <td>0.000000</td>\n",
       "      <td>0.000000</td>\n",
       "      <td>0.000000</td>\n",
       "      <td>0.000000</td>\n",
       "      <td>0.000000</td>\n",
       "      <td>0.000000</td>\n",
       "      <td>0.000000</td>\n",
       "      <td>0.000000</td>\n",
       "      <td>0.000000</td>\n",
       "      <td>0.000000</td>\n",
       "    </tr>\n",
       "    <tr>\n",
       "      <th>3</th>\n",
       "      <td>id_00276f245</td>\n",
       "      <td>0.000549</td>\n",
       "      <td>0.000378</td>\n",
       "      <td>0.002366</td>\n",
       "      <td>0.016651</td>\n",
       "      <td>0.016988</td>\n",
       "      <td>0.004359</td>\n",
       "      <td>0.002313</td>\n",
       "      <td>0.003993</td>\n",
       "      <td>0.000086</td>\n",
       "      <td>...</td>\n",
       "      <td>0.000670</td>\n",
       "      <td>0.001146</td>\n",
       "      <td>0.004432</td>\n",
       "      <td>0.029736</td>\n",
       "      <td>0.006751</td>\n",
       "      <td>0.000452</td>\n",
       "      <td>0.001074</td>\n",
       "      <td>0.002985</td>\n",
       "      <td>0.000822</td>\n",
       "      <td>0.004168</td>\n",
       "    </tr>\n",
       "    <tr>\n",
       "      <th>4</th>\n",
       "      <td>id_0027f1083</td>\n",
       "      <td>0.001195</td>\n",
       "      <td>0.001355</td>\n",
       "      <td>0.002352</td>\n",
       "      <td>0.015403</td>\n",
       "      <td>0.016986</td>\n",
       "      <td>0.004392</td>\n",
       "      <td>0.007876</td>\n",
       "      <td>0.002547</td>\n",
       "      <td>0.000402</td>\n",
       "      <td>...</td>\n",
       "      <td>0.000836</td>\n",
       "      <td>0.000436</td>\n",
       "      <td>0.005007</td>\n",
       "      <td>0.001417</td>\n",
       "      <td>0.000817</td>\n",
       "      <td>0.000712</td>\n",
       "      <td>0.001300</td>\n",
       "      <td>0.001711</td>\n",
       "      <td>0.000079</td>\n",
       "      <td>0.002067</td>\n",
       "    </tr>\n",
       "  </tbody>\n",
       "</table>\n",
       "<p>5 rows × 207 columns</p>\n",
       "</div>"
      ],
      "text/plain": [
       "         sig_id  5-alpha_reductase_inhibitor  11-beta-hsd1_inhibitor  \\\n",
       "0  id_0004d9e33                     0.000546                0.001132   \n",
       "1  id_001897cda                     0.000398                0.000658   \n",
       "2  id_002429b5b                     0.000000                0.000000   \n",
       "3  id_00276f245                     0.000549                0.000378   \n",
       "4  id_0027f1083                     0.001195                0.001355   \n",
       "\n",
       "   acat_inhibitor  acetylcholine_receptor_agonist  \\\n",
       "0        0.003094                        0.013157   \n",
       "1        0.001894                        0.001871   \n",
       "2        0.000000                        0.000000   \n",
       "3        0.002366                        0.016651   \n",
       "4        0.002352                        0.015403   \n",
       "\n",
       "   acetylcholine_receptor_antagonist  acetylcholinesterase_inhibitor  \\\n",
       "0                           0.015715                        0.004966   \n",
       "1                           0.001644                        0.001835   \n",
       "2                           0.000000                        0.000000   \n",
       "3                           0.016988                        0.004359   \n",
       "4                           0.016986                        0.004392   \n",
       "\n",
       "   adenosine_receptor_agonist  adenosine_receptor_antagonist  \\\n",
       "0                    0.001095                       0.006447   \n",
       "1                    0.004666                       0.013775   \n",
       "2                    0.000000                       0.000000   \n",
       "3                    0.002313                       0.003993   \n",
       "4                    0.007876                       0.002547   \n",
       "\n",
       "   adenylyl_cyclase_activator  ...  tropomyosin_receptor_kinase_inhibitor  \\\n",
       "0                    0.000092  ...                               0.000777   \n",
       "1                    0.011285  ...                               0.000551   \n",
       "2                    0.000000  ...                               0.000000   \n",
       "3                    0.000086  ...                               0.000670   \n",
       "4                    0.000402  ...                               0.000836   \n",
       "\n",
       "   trpv_agonist  trpv_antagonist  tubulin_inhibitor  \\\n",
       "0      0.001315         0.004643           0.000822   \n",
       "1      0.000990         0.003552           0.000219   \n",
       "2      0.000000         0.000000           0.000000   \n",
       "3      0.001146         0.004432           0.029736   \n",
       "4      0.000436         0.005007           0.001417   \n",
       "\n",
       "   tyrosine_kinase_inhibitor  ubiquitin_specific_protease_inhibitor  \\\n",
       "0                   0.000381                               0.000568   \n",
       "1                   0.013174                               0.000378   \n",
       "2                   0.000000                               0.000000   \n",
       "3                   0.006751                               0.000452   \n",
       "4                   0.000817                               0.000712   \n",
       "\n",
       "   vegfr_inhibitor  vitamin_b  vitamin_d_receptor_agonist  wnt_inhibitor  \n",
       "0         0.000549   0.001466                    0.009638       0.001732  \n",
       "1         0.008563   0.000687                    0.005651       0.004113  \n",
       "2         0.000000   0.000000                    0.000000       0.000000  \n",
       "3         0.001074   0.002985                    0.000822       0.004168  \n",
       "4         0.001300   0.001711                    0.000079       0.002067  \n",
       "\n",
       "[5 rows x 207 columns]"
      ]
     },
     "execution_count": 30,
     "metadata": {},
     "output_type": "execute_result"
    }
   ],
   "source": [
    "sub = submission.drop(columns=targets).merge(test[['sig_id'] + targets], on='sig_id', how='left').fillna(0)\n",
    "sub.to_csv(sub_file, index=False)\n",
    "sub.head()"
   ]
  },
  {
   "cell_type": "code",
   "execution_count": null,
   "metadata": {
    "papermill": {
     "duration": 0.083621,
     "end_time": "2020-11-21T05:55:44.404366",
     "exception": false,
     "start_time": "2020-11-21T05:55:44.320745",
     "status": "completed"
    },
    "tags": []
   },
   "outputs": [],
   "source": []
  }
 ],
 "metadata": {
  "kernelspec": {
   "display_name": "Python 3",
   "language": "python",
   "name": "python3"
  },
  "language_info": {
   "codemirror_mode": {
    "name": "ipython",
    "version": 3
   },
   "file_extension": ".py",
   "mimetype": "text/x-python",
   "name": "python",
   "nbconvert_exporter": "python",
   "pygments_lexer": "ipython3",
   "version": "3.7.6"
  },
  "papermill": {
   "duration": 1610.5392,
   "end_time": "2020-11-21T05:55:45.565892",
   "environment_variables": {},
   "exception": null,
   "input_path": "__notebook__.ipynb",
   "output_path": "__notebook__.ipynb",
   "parameters": {},
   "start_time": "2020-11-21T05:28:55.026692",
   "version": "2.1.0"
  },
  "widgets": {
   "application/vnd.jupyter.widget-state+json": {
    "state": {
     "4a163c934f884e199c810591a4490de3": {
      "model_module": "@jupyter-widgets/controls",
      "model_module_version": "1.5.0",
      "model_name": "HTMLModel",
      "state": {
       "_dom_classes": [],
       "_model_module": "@jupyter-widgets/controls",
       "_model_module_version": "1.5.0",
       "_model_name": "HTMLModel",
       "_view_count": null,
       "_view_module": "@jupyter-widgets/controls",
       "_view_module_version": "1.5.0",
       "_view_name": "HTMLView",
       "description": "",
       "description_tooltip": null,
       "layout": "IPY_MODEL_d9209212953f45f194830c02f079d01f",
       "placeholder": "​",
       "style": "IPY_MODEL_d47cf116a751414b936c62b7acd610af",
       "value": " 872/872 [00:08&lt;00:00, 101.25it/s]"
      }
     },
     "819fcc2babd04a479e156a963e997e7d": {
      "model_module": "@jupyter-widgets/base",
      "model_module_version": "1.2.0",
      "model_name": "LayoutModel",
      "state": {
       "_model_module": "@jupyter-widgets/base",
       "_model_module_version": "1.2.0",
       "_model_name": "LayoutModel",
       "_view_count": null,
       "_view_module": "@jupyter-widgets/base",
       "_view_module_version": "1.2.0",
       "_view_name": "LayoutView",
       "align_content": null,
       "align_items": null,
       "align_self": null,
       "border": null,
       "bottom": null,
       "display": null,
       "flex": null,
       "flex_flow": null,
       "grid_area": null,
       "grid_auto_columns": null,
       "grid_auto_flow": null,
       "grid_auto_rows": null,
       "grid_column": null,
       "grid_gap": null,
       "grid_row": null,
       "grid_template_areas": null,
       "grid_template_columns": null,
       "grid_template_rows": null,
       "height": null,
       "justify_content": null,
       "justify_items": null,
       "left": null,
       "margin": null,
       "max_height": null,
       "max_width": null,
       "min_height": null,
       "min_width": null,
       "object_fit": null,
       "object_position": null,
       "order": null,
       "overflow": null,
       "overflow_x": null,
       "overflow_y": null,
       "padding": null,
       "right": null,
       "top": null,
       "visibility": null,
       "width": null
      }
     },
     "8be97335a4704cf290f9578fe69e5bed": {
      "model_module": "@jupyter-widgets/controls",
      "model_module_version": "1.5.0",
      "model_name": "HBoxModel",
      "state": {
       "_dom_classes": [],
       "_model_module": "@jupyter-widgets/controls",
       "_model_module_version": "1.5.0",
       "_model_name": "HBoxModel",
       "_view_count": null,
       "_view_module": "@jupyter-widgets/controls",
       "_view_module_version": "1.5.0",
       "_view_name": "HBoxView",
       "box_style": "",
       "children": [
        "IPY_MODEL_fc06c21f6ae54b72a429d946d10ac848",
        "IPY_MODEL_4a163c934f884e199c810591a4490de3"
       ],
       "layout": "IPY_MODEL_819fcc2babd04a479e156a963e997e7d"
      }
     },
     "9737585493e046e8bedc685e2b8b07cb": {
      "model_module": "@jupyter-widgets/base",
      "model_module_version": "1.2.0",
      "model_name": "LayoutModel",
      "state": {
       "_model_module": "@jupyter-widgets/base",
       "_model_module_version": "1.2.0",
       "_model_name": "LayoutModel",
       "_view_count": null,
       "_view_module": "@jupyter-widgets/base",
       "_view_module_version": "1.2.0",
       "_view_name": "LayoutView",
       "align_content": null,
       "align_items": null,
       "align_self": null,
       "border": null,
       "bottom": null,
       "display": null,
       "flex": null,
       "flex_flow": null,
       "grid_area": null,
       "grid_auto_columns": null,
       "grid_auto_flow": null,
       "grid_auto_rows": null,
       "grid_column": null,
       "grid_gap": null,
       "grid_row": null,
       "grid_template_areas": null,
       "grid_template_columns": null,
       "grid_template_rows": null,
       "height": null,
       "justify_content": null,
       "justify_items": null,
       "left": null,
       "margin": null,
       "max_height": null,
       "max_width": null,
       "min_height": null,
       "min_width": null,
       "object_fit": null,
       "object_position": null,
       "order": null,
       "overflow": null,
       "overflow_x": null,
       "overflow_y": null,
       "padding": null,
       "right": null,
       "top": null,
       "visibility": null,
       "width": null
      }
     },
     "d47cf116a751414b936c62b7acd610af": {
      "model_module": "@jupyter-widgets/controls",
      "model_module_version": "1.5.0",
      "model_name": "DescriptionStyleModel",
      "state": {
       "_model_module": "@jupyter-widgets/controls",
       "_model_module_version": "1.5.0",
       "_model_name": "DescriptionStyleModel",
       "_view_count": null,
       "_view_module": "@jupyter-widgets/base",
       "_view_module_version": "1.2.0",
       "_view_name": "StyleView",
       "description_width": ""
      }
     },
     "d9209212953f45f194830c02f079d01f": {
      "model_module": "@jupyter-widgets/base",
      "model_module_version": "1.2.0",
      "model_name": "LayoutModel",
      "state": {
       "_model_module": "@jupyter-widgets/base",
       "_model_module_version": "1.2.0",
       "_model_name": "LayoutModel",
       "_view_count": null,
       "_view_module": "@jupyter-widgets/base",
       "_view_module_version": "1.2.0",
       "_view_name": "LayoutView",
       "align_content": null,
       "align_items": null,
       "align_self": null,
       "border": null,
       "bottom": null,
       "display": null,
       "flex": null,
       "flex_flow": null,
       "grid_area": null,
       "grid_auto_columns": null,
       "grid_auto_flow": null,
       "grid_auto_rows": null,
       "grid_column": null,
       "grid_gap": null,
       "grid_row": null,
       "grid_template_areas": null,
       "grid_template_columns": null,
       "grid_template_rows": null,
       "height": null,
       "justify_content": null,
       "justify_items": null,
       "left": null,
       "margin": null,
       "max_height": null,
       "max_width": null,
       "min_height": null,
       "min_width": null,
       "object_fit": null,
       "object_position": null,
       "order": null,
       "overflow": null,
       "overflow_x": null,
       "overflow_y": null,
       "padding": null,
       "right": null,
       "top": null,
       "visibility": null,
       "width": null
      }
     },
     "e974552067764759b400bf008585fe7e": {
      "model_module": "@jupyter-widgets/controls",
      "model_module_version": "1.5.0",
      "model_name": "ProgressStyleModel",
      "state": {
       "_model_module": "@jupyter-widgets/controls",
       "_model_module_version": "1.5.0",
       "_model_name": "ProgressStyleModel",
       "_view_count": null,
       "_view_module": "@jupyter-widgets/base",
       "_view_module_version": "1.2.0",
       "_view_name": "StyleView",
       "bar_color": null,
       "description_width": "initial"
      }
     },
     "fc06c21f6ae54b72a429d946d10ac848": {
      "model_module": "@jupyter-widgets/controls",
      "model_module_version": "1.5.0",
      "model_name": "FloatProgressModel",
      "state": {
       "_dom_classes": [],
       "_model_module": "@jupyter-widgets/controls",
       "_model_module_version": "1.5.0",
       "_model_name": "FloatProgressModel",
       "_view_count": null,
       "_view_module": "@jupyter-widgets/controls",
       "_view_module_version": "1.5.0",
       "_view_name": "ProgressView",
       "bar_style": "success",
       "description": "100%",
       "description_tooltip": null,
       "layout": "IPY_MODEL_9737585493e046e8bedc685e2b8b07cb",
       "max": 872.0,
       "min": 0.0,
       "orientation": "horizontal",
       "style": "IPY_MODEL_e974552067764759b400bf008585fe7e",
       "value": 872.0
      }
     }
    },
    "version_major": 2,
    "version_minor": 0
   }
  }
 },
 "nbformat": 4,
 "nbformat_minor": 4
}
