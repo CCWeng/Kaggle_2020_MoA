{
 "cells": [
  {
   "cell_type": "markdown",
   "metadata": {
    "papermill": {
     "duration": 0.024948,
     "end_time": "2020-11-20T06:02:48.045904",
     "exception": false,
     "start_time": "2020-11-20T06:02:48.020956",
     "status": "completed"
    },
    "tags": []
   },
   "source": [
    "# Version Notifications:\n",
    "\n",
    "date : 2020/12/04\n",
    "\n",
    "key modifications :\n",
    "1. Train nonscored targets first.\n",
    "2. MultilabelStratifiedKFold on drug_id."
   ]
  },
  {
   "cell_type": "markdown",
   "metadata": {
    "papermill": {
     "duration": 0.023576,
     "end_time": "2020-11-20T06:02:48.093872",
     "exception": false,
     "start_time": "2020-11-20T06:02:48.070296",
     "status": "completed"
    },
    "tags": []
   },
   "source": [
    "## packages, functions, utils "
   ]
  },
  {
   "cell_type": "code",
   "execution_count": 8,
   "metadata": {
    "execution": {
     "iopub.execute_input": "2020-11-20T06:02:48.150347Z",
     "iopub.status.busy": "2020-11-20T06:02:48.149416Z",
     "iopub.status.idle": "2020-11-20T06:02:50.678030Z",
     "shell.execute_reply": "2020-11-20T06:02:50.679120Z"
    },
    "papermill": {
     "duration": 2.561769,
     "end_time": "2020-11-20T06:02:50.679310",
     "exception": false,
     "start_time": "2020-11-20T06:02:48.117541",
     "status": "completed"
    },
    "tags": []
   },
   "outputs": [
    {
     "name": "stdout",
     "output_type": "stream",
     "text": [
      "Device : cpu\n"
     ]
    }
   ],
   "source": [
    "import numpy as np\n",
    "import pandas as pd \n",
    "import random\n",
    "import os\n",
    "import gc\n",
    "\n",
    "from tqdm.notebook import tqdm\n",
    "from scipy.special import erfinv\n",
    "\n",
    "from sklearn.metrics import log_loss\n",
    "\n",
    "import seaborn as sns\n",
    "from matplotlib import pyplot as plt\n",
    "\n",
    "import torch\n",
    "from torch import nn\n",
    "from torch.nn import functional as F\n",
    "from torch.nn import Module\n",
    "from torch import optim\n",
    "from torch.utils.data import Dataset, DataLoader\n",
    "\n",
    "from iterstrat.ml_stratifiers import MultilabelStratifiedKFold\n",
    "\n",
    "device = torch.device('cuda' if torch.cuda.is_available() else 'cpu')\n",
    "print(f'Device : {device}')\n",
    "\n",
    "import warnings \n",
    "warnings.filterwarnings('ignore')"
   ]
  },
  {
   "cell_type": "code",
   "execution_count": 9,
   "metadata": {
    "collapsed": true,
    "execution": {
     "iopub.execute_input": "2020-11-20T06:02:50.738045Z",
     "iopub.status.busy": "2020-11-20T06:02:50.737238Z",
     "iopub.status.idle": "2020-11-20T06:02:50.739685Z",
     "shell.execute_reply": "2020-11-20T06:02:50.740238Z"
    },
    "papermill": {
     "duration": 0.034998,
     "end_time": "2020-11-20T06:02:50.740358",
     "exception": false,
     "start_time": "2020-11-20T06:02:50.705360",
     "status": "completed"
    },
    "tags": []
   },
   "outputs": [],
   "source": [
    "def cate2dummy(train, test, cate_features):\n",
    "    df_cate = train[['sig_id'] + cate_features].append(test[['sig_id'] + cate_features])\n",
    "    df_cate[cate_features] = df_cate[cate_features].astype(str)\n",
    "    df_dumm = pd.get_dummies(df_cate, columns=cate_features)\n",
    "\n",
    "    dumm_features = [c for c in df_dumm.columns if c not in ['sig_id']]\n",
    "    train = train.merge(df_dumm, on='sig_id', how='left')\n",
    "    test = test.merge(df_dumm, on='sig_id', how='left')\n",
    "    \n",
    "    return train, test, dumm_features"
   ]
  },
  {
   "cell_type": "code",
   "execution_count": 10,
   "metadata": {
    "collapsed": true,
    "execution": {
     "iopub.execute_input": "2020-11-20T06:02:50.807799Z",
     "iopub.status.busy": "2020-11-20T06:02:50.802606Z",
     "iopub.status.idle": "2020-11-20T06:02:50.811272Z",
     "shell.execute_reply": "2020-11-20T06:02:50.810792Z"
    },
    "papermill": {
     "duration": 0.047442,
     "end_time": "2020-11-20T06:02:50.811371",
     "exception": false,
     "start_time": "2020-11-20T06:02:50.763929",
     "status": "completed"
    },
    "tags": []
   },
   "outputs": [],
   "source": [
    "class GaussRankScaler():\n",
    "    def __init__(self):\n",
    "        self.epsilon = 0.001\n",
    "        self.lower = -1 + self.epsilon\n",
    "        self.upper = 1 - self.epsilon\n",
    "        self.range = self.upper - self.lower\n",
    "        \n",
    "    def fit_transform(self, X):\n",
    "        i = np.argsort(X, axis=0)\n",
    "        j = np.argsort(i, axis=0)\n",
    "        \n",
    "        assert (j.min() == 0)\n",
    "        assert (j.max() == len(j) - 1)\n",
    "        \n",
    "        j_range = len(j) - 1\n",
    "        self.divider = j_range / self.range\n",
    "        \n",
    "        transformed = j / self.divider\n",
    "        transformed = transformed - self.upper\n",
    "        transformed = erfinv(transformed)\n",
    "        \n",
    "        return transformed\n",
    "    \n",
    "def gauss_rank_features(train, test, features):\n",
    "    n_train = len(train)\n",
    "    \n",
    "    for f in tqdm(features):\n",
    "        feat = train[f].append(test[f])\n",
    "        feat_transformed = GaussRankScaler().fit_transform(feat)\n",
    "        train[f] = feat_transformed.iloc[:n_train]\n",
    "        test[f] = feat_transformed.iloc[n_train:]\n",
    "        \n",
    "    return train, test"
   ]
  },
  {
   "cell_type": "code",
   "execution_count": 11,
   "metadata": {
    "collapsed": true,
    "execution": {
     "iopub.execute_input": "2020-11-20T06:02:50.963596Z",
     "iopub.status.busy": "2020-11-20T06:02:50.962819Z",
     "iopub.status.idle": "2020-11-20T06:02:50.965709Z",
     "shell.execute_reply": "2020-11-20T06:02:50.965242Z"
    },
    "papermill": {
     "duration": 0.033218,
     "end_time": "2020-11-20T06:02:50.965803",
     "exception": false,
     "start_time": "2020-11-20T06:02:50.932585",
     "status": "completed"
    },
    "tags": []
   },
   "outputs": [],
   "source": [
    "def seed_everything(seed=42):\n",
    "    random.seed(seed)\n",
    "    os.environ['PYTHONHASHSEED'] = str(seed)\n",
    "    np.random.seed(seed)\n",
    "    torch.manual_seed(seed)\n",
    "    torch.cuda.manual_seed(seed)\n",
    "    torch.backends.cudnn.deterministic=True"
   ]
  },
  {
   "cell_type": "markdown",
   "metadata": {
    "papermill": {
     "duration": 0.025934,
     "end_time": "2020-11-20T06:02:51.019538",
     "exception": false,
     "start_time": "2020-11-20T06:02:50.993604",
     "status": "completed"
    },
    "tags": []
   },
   "source": [
    "## Data Preparation"
   ]
  },
  {
   "cell_type": "code",
   "execution_count": 14,
   "metadata": {
    "collapsed": true,
    "execution": {
     "iopub.execute_input": "2020-11-20T06:02:51.082304Z",
     "iopub.status.busy": "2020-11-20T06:02:51.081617Z",
     "iopub.status.idle": "2020-11-20T06:02:51.084798Z",
     "shell.execute_reply": "2020-11-20T06:02:51.084289Z"
    },
    "papermill": {
     "duration": 0.038714,
     "end_time": "2020-11-20T06:02:51.084894",
     "exception": false,
     "start_time": "2020-11-20T06:02:51.046180",
     "status": "completed"
    },
    "tags": []
   },
   "outputs": [],
   "source": [
    "ON_KAGGLE = False\n",
    "\n",
    "if ON_KAGGLE:\n",
    "    input_dir = '/kaggle/input/lish-moa'\n",
    "    output_dir = 'nn_04'\n",
    "    if not os.path.isdir(output_dir):\n",
    "        os.mkdir(output_dir)\n",
    "else:\n",
    "    input_dir = '../_data/lish-moa'\n",
    "    output_dir = 'output/nn_04'\n",
    "    \n",
    "    if not os.path.isdir('output'):\n",
    "        os.mkdir('output')\n",
    "        \n",
    "    if not os.path.isdir(output_dir):\n",
    "        os.mkdir(output_dir)"
   ]
  },
  {
   "cell_type": "code",
   "execution_count": 15,
   "metadata": {
    "execution": {
     "iopub.execute_input": "2020-11-20T06:02:51.140833Z",
     "iopub.status.busy": "2020-11-20T06:02:51.139972Z",
     "iopub.status.idle": "2020-11-20T06:02:51.146548Z",
     "shell.execute_reply": "2020-11-20T06:02:51.145952Z"
    },
    "papermill": {
     "duration": 0.036721,
     "end_time": "2020-11-20T06:02:51.146641",
     "exception": false,
     "start_time": "2020-11-20T06:02:51.109920",
     "status": "completed"
    },
    "tags": []
   },
   "outputs": [
    {
     "data": {
      "text/plain": [
       "['zip files',\n",
       " 'train_targets_nonscored.csv',\n",
       " 'train_drug.csv',\n",
       " '.DS_Store',\n",
       " 'test_features.csv',\n",
       " 'train_targets_scored.csv',\n",
       " 'train_features.csv',\n",
       " 'sample_submission.csv']"
      ]
     },
     "execution_count": 15,
     "metadata": {},
     "output_type": "execute_result"
    }
   ],
   "source": [
    "os.listdir(input_dir)"
   ]
  },
  {
   "cell_type": "code",
   "execution_count": 33,
   "metadata": {
    "collapsed": true,
    "execution": {
     "iopub.execute_input": "2020-11-20T06:02:51.208142Z",
     "iopub.status.busy": "2020-11-20T06:02:51.207224Z",
     "iopub.status.idle": "2020-11-20T06:02:57.537197Z",
     "shell.execute_reply": "2020-11-20T06:02:57.535645Z"
    },
    "papermill": {
     "duration": 6.364165,
     "end_time": "2020-11-20T06:02:57.537324",
     "exception": false,
     "start_time": "2020-11-20T06:02:51.173159",
     "status": "completed"
    },
    "tags": []
   },
   "outputs": [],
   "source": [
    "train = pd.read_csv(os.path.join(input_dir, 'train_features.csv'))\n",
    "test = pd.read_csv(os.path.join(input_dir, 'test_features.csv'))\n",
    "\n",
    "targets_scored = pd.read_csv(os.path.join(input_dir, 'train_targets_scored.csv'))\n",
    "targets_nonscored = pd.read_csv(os.path.join(input_dir, 'train_targets_nonscored.csv'))\n",
    "\n",
    "train_drug = pd.read_csv(os.path.join(input_dir, 'train_drug.csv'))\n",
    "\n",
    "submission = pd.read_csv(os.path.join(input_dir, 'sample_submission.csv'))"
   ]
  },
  {
   "cell_type": "code",
   "execution_count": 34,
   "metadata": {
    "collapsed": true,
    "execution": {
     "iopub.execute_input": "2020-11-20T06:02:57.597632Z",
     "iopub.status.busy": "2020-11-20T06:02:57.596025Z",
     "iopub.status.idle": "2020-11-20T06:02:57.599176Z",
     "shell.execute_reply": "2020-11-20T06:02:57.599791Z"
    },
    "papermill": {
     "duration": 0.036162,
     "end_time": "2020-11-20T06:02:57.599929",
     "exception": false,
     "start_time": "2020-11-20T06:02:57.563767",
     "status": "completed"
    },
    "tags": []
   },
   "outputs": [],
   "source": [
    "gene_features = [c for c in train.columns if c.startswith('g-')]\n",
    "cell_features = [c for c in train.columns if c.startswith('c-')]\n",
    "cate_features = ['cp_type', 'cp_time', 'cp_dose']\n",
    "\n",
    "target_columns_scored = [c for c in targets_scored if c not in ['sig_id']]\n",
    "target_columns_nonscored = [c for c in targets_nonscored if c not in ['sig_id']]"
   ]
  },
  {
   "cell_type": "code",
   "execution_count": 35,
   "metadata": {
    "collapsed": true
   },
   "outputs": [],
   "source": [
    "target_columns_all = target_columns_scored + target_columns_nonscored"
   ]
  },
  {
   "cell_type": "code",
   "execution_count": 36,
   "metadata": {
    "execution": {
     "iopub.execute_input": "2020-11-20T06:02:57.663750Z",
     "iopub.status.busy": "2020-11-20T06:02:57.662379Z",
     "iopub.status.idle": "2020-11-20T06:02:57.794070Z",
     "shell.execute_reply": "2020-11-20T06:02:57.793563Z"
    },
    "papermill": {
     "duration": 0.168061,
     "end_time": "2020-11-20T06:02:57.794201",
     "exception": false,
     "start_time": "2020-11-20T06:02:57.626140",
     "status": "completed"
    },
    "tags": []
   },
   "outputs": [],
   "source": [
    "train = pd.merge(train, targets_scored, on='sig_id', how='left')\n",
    "train = pd.merge(train, targets_nonscored, on='sig_id', how='left')"
   ]
  },
  {
   "cell_type": "code",
   "execution_count": 37,
   "metadata": {
    "execution": {
     "iopub.execute_input": "2020-11-20T06:02:58.031869Z",
     "iopub.status.busy": "2020-11-20T06:02:58.030879Z",
     "iopub.status.idle": "2020-11-20T06:02:58.111607Z",
     "shell.execute_reply": "2020-11-20T06:02:58.111025Z"
    },
    "papermill": {
     "duration": 0.115739,
     "end_time": "2020-11-20T06:02:58.111718",
     "exception": false,
     "start_time": "2020-11-20T06:02:57.995979",
     "status": "completed"
    },
    "tags": []
   },
   "outputs": [],
   "source": [
    "train = train.loc[train['cp_type'] != 'ctl_vehicle']\n",
    "test = test.loc[test['cp_type'] != 'ctl_vehicle']\n",
    "\n",
    "cate_features.remove('cp_type')"
   ]
  },
  {
   "cell_type": "code",
   "execution_count": 38,
   "metadata": {
    "collapsed": true,
    "execution": {
     "iopub.execute_input": "2020-11-20T06:02:58.171762Z",
     "iopub.status.busy": "2020-11-20T06:02:58.170848Z",
     "iopub.status.idle": "2020-11-20T06:02:58.176009Z",
     "shell.execute_reply": "2020-11-20T06:02:58.175542Z"
    },
    "papermill": {
     "duration": 0.037849,
     "end_time": "2020-11-20T06:02:58.176123",
     "exception": false,
     "start_time": "2020-11-20T06:02:58.138274",
     "status": "completed"
    },
    "tags": []
   },
   "outputs": [],
   "source": [
    "cp_time_map = {\n",
    "    24: 0,\n",
    "    48: 1,\n",
    "    72: 2\n",
    "}\n",
    "\n",
    "train['cp_time'] = train['cp_time'].map(cp_time_map)\n",
    "test['cp_time'] = test['cp_time'].map(cp_time_map)"
   ]
  },
  {
   "cell_type": "code",
   "execution_count": 39,
   "metadata": {
    "collapsed": true,
    "execution": {
     "iopub.execute_input": "2020-11-20T06:02:58.240868Z",
     "iopub.status.busy": "2020-11-20T06:02:58.238734Z",
     "iopub.status.idle": "2020-11-20T06:02:58.424604Z",
     "shell.execute_reply": "2020-11-20T06:02:58.423962Z"
    },
    "papermill": {
     "duration": 0.22115,
     "end_time": "2020-11-20T06:02:58.424727",
     "exception": false,
     "start_time": "2020-11-20T06:02:58.203577",
     "status": "completed"
    },
    "tags": []
   },
   "outputs": [],
   "source": [
    "train, test, dumm_features = cate2dummy(train, test, cate_features)"
   ]
  },
  {
   "cell_type": "code",
   "execution_count": 40,
   "metadata": {
    "execution": {
     "iopub.execute_input": "2020-11-20T06:02:58.484603Z",
     "iopub.status.busy": "2020-11-20T06:02:58.483970Z",
     "iopub.status.idle": "2020-11-20T06:03:06.075996Z",
     "shell.execute_reply": "2020-11-20T06:03:06.077168Z"
    },
    "papermill": {
     "duration": 7.624102,
     "end_time": "2020-11-20T06:03:06.077349",
     "exception": false,
     "start_time": "2020-11-20T06:02:58.453247",
     "status": "completed"
    },
    "tags": []
   },
   "outputs": [
    {
     "data": {
      "application/vnd.jupyter.widget-view+json": {
       "model_id": "b44fa4861c72490298f5785906813b15",
       "version_major": 2,
       "version_minor": 0
      },
      "text/plain": [
       "HBox(children=(FloatProgress(value=0.0, max=872.0), HTML(value='')))"
      ]
     },
     "metadata": {},
     "output_type": "display_data"
    },
    {
     "name": "stdout",
     "output_type": "stream",
     "text": [
      "\n"
     ]
    }
   ],
   "source": [
    "train, test = gauss_rank_features(train, test, gene_features+cell_features)"
   ]
  },
  {
   "cell_type": "markdown",
   "metadata": {
    "papermill": {
     "duration": 0.041045,
     "end_time": "2020-11-20T06:03:06.159435",
     "exception": false,
     "start_time": "2020-11-20T06:03:06.118390",
     "status": "completed"
    },
    "tags": []
   },
   "source": [
    "### Model Construction"
   ]
  },
  {
   "cell_type": "code",
   "execution_count": 47,
   "metadata": {},
   "outputs": [],
   "source": [
    "class Model(nn.Module):\n",
    "    def __init__(self, num_features, num_targets):\n",
    "        super(Model, self).__init__()\n",
    "        self.hidden_size = [1500, 1250, 1000, 750]\n",
    "        self.dropout_value = [0.5, 0.35, 0.2, 0.25]\n",
    "        \n",
    "        self.bn1 = nn.BatchNorm1d(num_features)\n",
    "        self.ds1 = nn.Linear(num_features, self.hidden_size[0])\n",
    "        \n",
    "        self.bn2 = nn.BatchNorm1d(self.hidden_size[0])\n",
    "        self.do2 = nn.Dropout(self.dropout_value[0])\n",
    "        self.ds2 = nn.Linear(self.hidden_size[0], self.hidden_size[1])\n",
    "        \n",
    "        self.bn3 = nn.BatchNorm1d(self.hidden_size[1])\n",
    "        self.do3 = nn.Dropout(self.dropout_value[1])\n",
    "        self.ds3 = nn.Linear(self.hidden_size[1], self.hidden_size[2])\n",
    "        \n",
    "        self.bn4 = nn.BatchNorm1d(self.hidden_size[2])\n",
    "        self.do4 = nn.Dropout(self.dropout_value[2])\n",
    "        self.ds4 = nn.Linear(self.hidden_size[2], self.hidden_size[3])\n",
    "        \n",
    "        self.bn5 = nn.BatchNorm1d(self.hidden_size[3])\n",
    "        self.do5 = nn.Dropout(self.dropout_value[3])\n",
    "        self.ds5 = nn.utils.weight_norm(nn.Linear(self.hidden_size[3], num_targets))\n",
    "        \n",
    "    def forward(self, x):\n",
    "        x = self.bn1(x)\n",
    "        x = F.leaky_relu(self.ds1(x))\n",
    "        \n",
    "        x = self.bn2(x)\n",
    "        x = self.do2(x)\n",
    "        x = F.leaky_relu(self.ds2(x))\n",
    "\n",
    "        x = self.bn3(x)\n",
    "        x = self.do3(x)\n",
    "        x = F.leaky_relu(self.ds3(x))\n",
    "\n",
    "        x = self.bn4(x)\n",
    "        x = self.do4(x)\n",
    "        x = F.leaky_relu(self.ds4(x))\n",
    "\n",
    "        x = self.bn5(x)\n",
    "        x = self.do5(x)\n",
    "        x = self.ds5(x)\n",
    "        \n",
    "        return x\n",
    "    \n",
    "\n",
    "class LabelSmoothingLoss(nn.Module):\n",
    "    def __init__(self, classes, smoothing=0.0, dim=-1):\n",
    "        super(LabelSmoothingLoss, self).__init__()\n",
    "        self.confidence = 1.0 - smoothing\n",
    "        self.smoothing = smoothing\n",
    "        self.cls = classes\n",
    "        self.dim = dim\n",
    "        \n",
    "    def forward(self, pred, target):\n",
    "        pred = pred.log_softmax(dim=self.dim)\n",
    "        \n",
    "        with torch.no_grad():\n",
    "            true_dist = torch.zeros_like(pred)\n",
    "            true_dist.fill_(self.smoothing / (self.cls - 1))\n",
    "            true_dist.scatter_(1, target.data.unsqueese(1), self.confidence)\n",
    "            \n",
    "        return torch.mean(torch.sum(-true_dist * pred, dim=self.dim))"
   ]
  },
  {
   "cell_type": "code",
   "execution_count": 45,
   "metadata": {},
   "outputs": [],
   "source": [
    "class FineTuneScheduler:\n",
    "    def __init__(self, epochs):\n",
    "        self.epochs = epochs\n",
    "        self.epochs_pre_step = 1\n",
    "        self.frozen_layers = []\n",
    "        \n",
    "    def copy_without_top(self, model, num_features, num_targets, num_targets_new):\n",
    "        self.frozen_layers = []\n",
    "        \n",
    "        model_new = Model(num_features, num_targets)\n",
    "        model_new.load_state_dict(model.state_dict())\n",
    "        \n",
    "        # Freeze all weights\n",
    "        for name, param in model_new.named_parameters():\n",
    "            layer_index = name.split('.')[0][-1]\n",
    "            \n",
    "            if layer_index == 5:\n",
    "                continue\n",
    "                \n",
    "            param.requires_grad = False\n",
    "            \n",
    "            # Save frozen layer names\n",
    "            if layer_index not in self.frozen_layers:\n",
    "                self.frozen_layers.append(layer_index)\n",
    "                \n",
    "        self.epochs_per_step = self.epochs // len(self.frozen_layers)\n",
    "        \n",
    "        # Replace the top layers with another ones\n",
    "        model_new.batch_norm5 = nn.BatchNorm1d(model_new.hidden_size[3])\n",
    "        model_new.dropout5 = nn.Dropout(model_new.dropout_value[3])\n",
    "        model_new.dense5 = nn.utils.weight_norm(nn.Linear(model_new.hidden_size[-1], num_targets_new))\n",
    "        model_new.to(DEVICE)\n",
    "        \n",
    "        return model_new"
   ]
  },
  {
   "cell_type": "code",
   "execution_count": 46,
   "metadata": {
    "collapsed": true,
    "execution": {
     "iopub.execute_input": "2020-11-20T06:03:06.247501Z",
     "iopub.status.busy": "2020-11-20T06:03:06.246689Z",
     "iopub.status.idle": "2020-11-20T06:03:06.250346Z",
     "shell.execute_reply": "2020-11-20T06:03:06.251007Z"
    },
    "papermill": {
     "duration": 0.051892,
     "end_time": "2020-11-20T06:03:06.251194",
     "exception": false,
     "start_time": "2020-11-20T06:03:06.199302",
     "status": "completed"
    },
    "tags": []
   },
   "outputs": [],
   "source": [
    "# all_features = gene_features + cell_features + dumm_features + ['cp_time']\n",
    "all_features = gene_features + cell_features\n",
    "\n",
    "GRADIENT_ACCUMULATION_STEPS = 1\n",
    "MAX_GRAD_NORM = 1000\n",
    "HIDDEN_SIZE = 512\n",
    "DROPOUT = 0.2\n",
    "LEARNING_RATE = 1e-2\n",
    "WEIGHT_DECAY = 1e-6\n",
    "BATCH_SIZE = 32\n",
    "EPOCHS = 20\n",
    "\n",
    "NUM_FEATURES = len(all_features)\n",
    "NUM_TARGETS = len(target_columns_scored)\n",
    "NUM_TARGETS_ALL = len(target_columns_scored) + len(target_columns_nonscored)\n",
    "NUM_FOLDS = 5"
   ]
  },
  {
   "cell_type": "markdown",
   "metadata": {
    "papermill": {
     "duration": 0.04351,
     "end_time": "2020-11-20T06:03:06.434201",
     "exception": false,
     "start_time": "2020-11-20T06:03:06.390691",
     "status": "completed"
    },
    "tags": []
   },
   "source": [
    "### Train and predict framework"
   ]
  },
  {
   "cell_type": "code",
   "execution_count": 48,
   "metadata": {
    "collapsed": true,
    "execution": {
     "iopub.execute_input": "2020-11-20T06:03:06.504018Z",
     "iopub.status.busy": "2020-11-20T06:03:06.502733Z",
     "iopub.status.idle": "2020-11-20T06:03:06.505362Z",
     "shell.execute_reply": "2020-11-20T06:03:06.505824Z"
    },
    "papermill": {
     "duration": 0.039558,
     "end_time": "2020-11-20T06:03:06.505930",
     "exception": false,
     "start_time": "2020-11-20T06:03:06.466372",
     "status": "completed"
    },
    "tags": []
   },
   "outputs": [],
   "source": [
    "class TrainDataset(Dataset):\n",
    "    def __init__(self, data, labels):\n",
    "        self.data = data.values\n",
    "        self.labels = labels.values\n",
    "        \n",
    "    def __len__(self):\n",
    "        return len(self.data)\n",
    "    \n",
    "    def __getitem__(self, idx):\n",
    "        X = torch.FloatTensor(self.data[idx])\n",
    "        y = torch.tensor(self.labels[idx]).float()\n",
    "        \n",
    "        return X, y"
   ]
  },
  {
   "cell_type": "code",
   "execution_count": 49,
   "metadata": {
    "collapsed": true,
    "execution": {
     "iopub.execute_input": "2020-11-20T06:03:06.568273Z",
     "iopub.status.busy": "2020-11-20T06:03:06.566833Z",
     "iopub.status.idle": "2020-11-20T06:03:06.569351Z",
     "shell.execute_reply": "2020-11-20T06:03:06.569808Z"
    },
    "papermill": {
     "duration": 0.036542,
     "end_time": "2020-11-20T06:03:06.569912",
     "exception": false,
     "start_time": "2020-11-20T06:03:06.533370",
     "status": "completed"
    },
    "tags": []
   },
   "outputs": [],
   "source": [
    "class TestDataset(Dataset):\n",
    "    def __init__(self, data):\n",
    "        self.data = data.values\n",
    "        \n",
    "    def __len__(self):\n",
    "        return len(self.data)\n",
    "    \n",
    "    def __getitem__(self, idx):\n",
    "        X = torch.FloatTensor(self.data[idx])\n",
    "        return X"
   ]
  },
  {
   "cell_type": "code",
   "execution_count": 50,
   "metadata": {
    "collapsed": true,
    "execution": {
     "iopub.execute_input": "2020-11-20T06:03:06.633132Z",
     "iopub.status.busy": "2020-11-20T06:03:06.632246Z",
     "iopub.status.idle": "2020-11-20T06:03:06.634488Z",
     "shell.execute_reply": "2020-11-20T06:03:06.634911Z"
    },
    "papermill": {
     "duration": 0.037632,
     "end_time": "2020-11-20T06:03:06.635021",
     "exception": false,
     "start_time": "2020-11-20T06:03:06.597389",
     "status": "completed"
    },
    "tags": []
   },
   "outputs": [],
   "source": [
    "class AverageMeter(object):\n",
    "    \"\"\"Compute and stores the average and current value\"\"\"\n",
    "    def __init__(self):\n",
    "        self.reset()\n",
    "        \n",
    "    def reset(self):\n",
    "        self.val = 0\n",
    "        self.avg = 0\n",
    "        self.sum = 0\n",
    "        self.count = 0\n",
    "        \n",
    "    def update(self, val, n=1):\n",
    "        self.val = val\n",
    "        self.sum += val * n\n",
    "        self.count += n\n",
    "        self.avg = (self.sum / self.count)"
   ]
  },
  {
   "cell_type": "code",
   "execution_count": 51,
   "metadata": {
    "collapsed": true,
    "execution": {
     "iopub.execute_input": "2020-11-20T06:03:06.701782Z",
     "iopub.status.busy": "2020-11-20T06:03:06.698851Z",
     "iopub.status.idle": "2020-11-20T06:03:06.704010Z",
     "shell.execute_reply": "2020-11-20T06:03:06.704459Z"
    },
    "papermill": {
     "duration": 0.041443,
     "end_time": "2020-11-20T06:03:06.704571",
     "exception": false,
     "start_time": "2020-11-20T06:03:06.663128",
     "status": "completed"
    },
    "tags": []
   },
   "outputs": [],
   "source": [
    "def train_fn(train_loader,\n",
    "             model,\n",
    "             optimizer,\n",
    "             epoch,\n",
    "             scheduler,\n",
    "             device):\n",
    "    losses = AverageMeter()\n",
    "    \n",
    "    model.train()\n",
    "    \n",
    "    for step, (X, y) in enumerate(train_loader):\n",
    "        X, y = X.to(device), y.to(device)\n",
    "        \n",
    "        batch_size = X.size(0)\n",
    "        pred = model(X)\n",
    "        loss = nn.BCEWithLogitsLoss()(pred, y)\n",
    "        losses.update(loss.item(), batch_size)\n",
    "        \n",
    "        if GRADIENT_ACCUMULATION_STEPS > 1:\n",
    "            loss /= GRADIENT_ACCUMULATION_STEPS\n",
    "        \n",
    "        loss.backward()\n",
    "        \n",
    "        grad_norm = nn.utils.clip_grad_norm_(model.parameters(), MAX_GRAD_NORM)\n",
    "        \n",
    "        if (step + 1) % GRADIENT_ACCUMULATION_STEPS == 0:\n",
    "            scheduler.step()\n",
    "            optimizer.step()\n",
    "            optimizer.zero_grad()\n",
    "            \n",
    "    return losses.avg"
   ]
  },
  {
   "cell_type": "code",
   "execution_count": 52,
   "metadata": {
    "collapsed": true,
    "execution": {
     "iopub.execute_input": "2020-11-20T06:03:06.769544Z",
     "iopub.status.busy": "2020-11-20T06:03:06.768834Z",
     "iopub.status.idle": "2020-11-20T06:03:06.772671Z",
     "shell.execute_reply": "2020-11-20T06:03:06.772170Z"
    },
    "papermill": {
     "duration": 0.040498,
     "end_time": "2020-11-20T06:03:06.772762",
     "exception": false,
     "start_time": "2020-11-20T06:03:06.732264",
     "status": "completed"
    },
    "tags": []
   },
   "outputs": [],
   "source": [
    "def validate_fn(valid_loader, model, device):\n",
    "    losses = AverageMeter()\n",
    "    model.eval()\n",
    "    val_preds = []\n",
    "    \n",
    "    for step, (X, y) in enumerate(valid_loader):\n",
    "        X, y = X.to(device), y.to(device)\n",
    "        batch_size = X.size(0)\n",
    "                \n",
    "        with torch.no_grad():\n",
    "            pred = model(X)\n",
    "            \n",
    "        loss = nn.BCEWithLogitsLoss()(pred, y)\n",
    "        \n",
    "        losses.update(loss.item(), batch_size)\n",
    "        \n",
    "        val_preds.append(pred.sigmoid().detach().cpu().numpy())\n",
    "        \n",
    "        if GRADIENT_ACCUMULATION_STEPS > 1:\n",
    "            loss /= GRADIENT_ACCUMULATION_STEPS\n",
    "            \n",
    "    val_preds = np.concatenate(val_preds)\n",
    "    \n",
    "    return losses.avg, val_preds"
   ]
  },
  {
   "cell_type": "code",
   "execution_count": 53,
   "metadata": {
    "collapsed": true,
    "execution": {
     "iopub.execute_input": "2020-11-20T06:03:06.838351Z",
     "iopub.status.busy": "2020-11-20T06:03:06.836543Z",
     "iopub.status.idle": "2020-11-20T06:03:06.838979Z",
     "shell.execute_reply": "2020-11-20T06:03:06.839460Z"
    },
    "papermill": {
     "duration": 0.038813,
     "end_time": "2020-11-20T06:03:06.839566",
     "exception": false,
     "start_time": "2020-11-20T06:03:06.800753",
     "status": "completed"
    },
    "tags": []
   },
   "outputs": [],
   "source": [
    "def inference_fn(test_loader, model, device):\n",
    "    model.eval()\n",
    "    preds = []\n",
    "\n",
    "    for step, (X) in enumerate(test_loader):\n",
    "        X = X.to(device)\n",
    "        \n",
    "        with torch.no_grad():\n",
    "            pred = model(X)\n",
    "            \n",
    "        preds.append(pred.sigmoid().detach().cpu().numpy())\n",
    "\n",
    "    preds = np.concatenate(preds)\n",
    "    preds = np.concatenate(preds)\n",
    "    \n",
    "    return preds"
   ]
  },
  {
   "cell_type": "code",
   "execution_count": 54,
   "metadata": {
    "collapsed": true
   },
   "outputs": [],
   "source": [
    "from sklearn.model_selection import KFold\n",
    "\n",
    "def make_fold_on_drug(train, n_seeds, n_folds, DRUG_THRESH):\n",
    "    drug_count = train['drug_id'].value_counts()\n",
    "    drugs1 = drug_count.loc[drug_count <= DRUG_THRESH].index.sort_values()\n",
    "    drugs2 = drug_count.loc[drug_count > DRUG_THRESH].index.sort_values()\n",
    "\n",
    "    for seed in range(SEEDS):\n",
    "        fold_col = f'fold{seed}'\n",
    "        fold_map = {}\n",
    "        \n",
    "        # stratify drug 18x or less        \n",
    "        skf = MultilabelStratifiedKFold(n_splits=NFOLDS, shuffle=True, random_state=seed_id)\n",
    "        tmp = train.groupby('drug_id')[target_cols].mean().loc[drugs1]\n",
    "        \n",
    "        for _fold, (train_idx, valid_idx) in enumerate(skf.split(tmp, tmp[target_cols])):\n",
    "            dd = {k: _fold for k in tmp.index[valid_idx].values}\n",
    "            fold_map.update(dd)\n",
    "            \n",
    "        # stratify drug more than 18x        \n",
    "        skf = MultilabelStratifiedKFold(n_splites=NFOLDS, shuffle=True, random_state=seed_id)\n",
    "        tmp = train.loc[train['drug_id'].isin(drugs2)].reset_index(drop=True)\n",
    "        \n",
    "        for _fold, (train_idx, valid_idx) in enumerate(skf.split(tmp, tmp[target_cols])):\n",
    "            dd = {k: _fold for k in tmp['sig_id'][valid_index].values}\n",
    "            fold_map.update(dd)\n",
    "            \n",
    "        # assign folds\n",
    "        train[kfold_col] = train['drug_id'].map(fold_map)\n",
    "        train[kfold_col] = train[kfold_col].astype('int8')\n",
    "        \n",
    "    return train"
   ]
  },
  {
   "cell_type": "code",
   "execution_count": null,
   "metadata": {
    "collapsed": true
   },
   "outputs": [],
   "source": [
    "def train_model(model, tag_name, features, targerts, fine_tune_scheduler=None):\n",
    "    \n",
    "    X_train, y_train = df_train[features].values, df_train[targets].values\n",
    "    X_valid, y_valid = df_valid[features].values, df_valid[targets].values\n",
    "    \n",
    "    train_dataset = MoADataset(X_train, y_train)\n",
    "    valid_dataset = MoADataset(X_valid, y_valid)\n",
    "    \n",
    "    train_loader = DataLoader(train_dataset, batch_size=BATCH_SIZE, shuffle=True)\n",
    "    valid_loader = DataLoader(valid_dataset, batch_size=BATCH_SIZE, shuffle=False)\n",
    "    \n",
    "    optimizer = optim.Adam(model.parameters(),\n",
    "                           lr=LEARNING_RATE,\n",
    "                           weight_decay=WEIGHT_DECAY)\n",
    "    \n",
    "    scheduler = optim.lr_scheduler.OneCycleLR(optimizer=optimizer,\n",
    "                                              pct_start=0.1,\n",
    "                                              div_factor=1e3,\n",
    "                                              max_lr=1e-2,\n",
    "                                              epochs=EPOCHS,\n",
    "                                              steps_per_epoch=len(train_loader))\n",
    "    \n",
    "    # train & valid\n",
    "    best_loss = np.inf\n",
    "    for epoch in range(EPOCHS):\n",
    "        train_loss = train_fn(train_loader,\n",
    "                              model,\n",
    "                              optimizer,\n",
    "                              epoch,\n",
    "                              scheduler,\n",
    "                              device)\n",
    "        \n",
    "        valid_loss, valid_pred = validate_fn(valid_loader, model, device)   \n",
    "        print(f\"SEED: {seed_id}, FOLD: {fold_id}, {tag_name}, EPOCH: {epoch}, train_loss: {train_loss:.6f}, valid_loss: {valid_loss:.6f}\")\n",
    "\n",
    "        if valid_loss < best_loss:\n",
    "            print(f'epoch{epoch} save best model ... {train_loss}, {valid_loss}')\n",
    "            best_loss = valid_loss\n",
    "            oof = np.zeros((len(train), len(targets)))\n",
    "            oof[valid_index] = valid_pred\n",
    "            torch.save(model.state_dict(), model_file)\n",
    "\n",
    "\n",
    "\n"
   ]
  },
  {
   "cell_type": "code",
   "execution_count": 24,
   "metadata": {
    "collapsed": true,
    "execution": {
     "iopub.execute_input": "2020-11-20T06:03:06.917360Z",
     "iopub.status.busy": "2020-11-20T06:03:06.908666Z",
     "iopub.status.idle": "2020-11-20T06:03:06.919897Z",
     "shell.execute_reply": "2020-11-20T06:03:06.920392Z"
    },
    "papermill": {
     "duration": 0.052916,
     "end_time": "2020-11-20T06:03:06.920499",
     "exception": false,
     "start_time": "2020-11-20T06:03:06.867583",
     "status": "completed"
    },
    "tags": []
   },
   "outputs": [],
   "source": [
    "def run_single_fold(train,\n",
    "                    test,\n",
    "                    features,\n",
    "                    targets,\n",
    "                    device,\n",
    "                    fold_num=0,\n",
    "                    seed=42):\n",
    "    \n",
    "    model_file = os.path.join(output_dir, f'fold{fold_num}_seed{seed}.pth')\n",
    "    seed_everything(seed)\n",
    "    \n",
    "    train_index = train.loc[train['fold'] != fold_num].index\n",
    "    valid_index = train.loc[train['fold'] == fold_num].index\n",
    "    \n",
    "    train_data = train.loc[train_index][features].reset_index(drop=True)\n",
    "    valid_data = train.loc[valid_index][features].reset_index(drop=True)\n",
    "    \n",
    "    train_targets = train.loc[train_index][targets]\n",
    "    valid_targets = train.loc[valid_index][targets]\n",
    "    \n",
    "    train_dataset = TrainDataset(train_data, train_targets)\n",
    "    valid_dataset = TrainDataset(valid_data, valid_targets)\n",
    "    \n",
    "    train_loader = DataLoader(train_dataset, batch_size=BATCH_SIZE, shuffle=True, num_workers=4, pin_memory=True, drop_last=True)\n",
    "    valid_loader = DataLoader(valid_dataset, batch_size=BATCH_SIZE, shuffle=False, num_workers=4, pin_memory=True, drop_last=False)\n",
    "    \n",
    "    # model\n",
    "    model = MLP()\n",
    "    model.to(device)\n",
    "    \n",
    "    optimizer = optim.Adam(model.parameters(),\n",
    "                           lr=LEARNING_RATE,\n",
    "                           weight_decay=WEIGHT_DECAY)\n",
    "    \n",
    "    scheduler = optim.lr_scheduler.OneCycleLR(optimizer=optimizer,\n",
    "                                              pct_start=0.1,\n",
    "                                              div_factor=1e3,\n",
    "                                              max_lr=1e-2,\n",
    "                                              epochs=EPOCHS,\n",
    "                                              steps_per_epoch=len(train_loader))\n",
    "    \n",
    "\n",
    "    # train & valid\n",
    "    best_loss = np.inf\n",
    "    for epoch in range(EPOCHS):\n",
    "        train_loss = train_fn(train_loader,\n",
    "                              model,\n",
    "                              optimizer,\n",
    "                              epoch,\n",
    "                              scheduler,\n",
    "                              device)\n",
    "        \n",
    "        valid_loss, valid_pred = validate_fn(valid_loader, model, device)        \n",
    "        \n",
    "        if valid_loss < best_loss:\n",
    "            print(f'epoch{epoch} save best model ... {train_loss}, {valid_loss}')\n",
    "            best_loss = valid_loss\n",
    "            oof = np.zeros((len(train), len(targets)))\n",
    "            oof[valid_index] = valid_pred\n",
    "            torch.save(model.state_dict(), model_file)\n",
    "            \n",
    "    # predictions\n",
    "    test_dataset = TestDataset(test[features])\n",
    "    test_loader = DataLoader(test_dataset, batch_size=BATCH_SIZE, shuffle=False, num_workers=4, pin_memory=True)\n",
    "    \n",
    "    model = MLP()\n",
    "    model.load_state_dict(torch.load(model_file))\n",
    "    model.to(device)\n",
    "    \n",
    "    predictions = inference_fn(test_loader, model, device)\n",
    "    \n",
    "    # delete\n",
    "    torch.cuda.empty_cache()\n",
    "    \n",
    "    return oof, predictions"
   ]
  },
  {
   "cell_type": "code",
   "execution_count": 24,
   "metadata": {
    "collapsed": true,
    "execution": {
     "iopub.execute_input": "2020-11-20T06:03:06.917360Z",
     "iopub.status.busy": "2020-11-20T06:03:06.908666Z",
     "iopub.status.idle": "2020-11-20T06:03:06.919897Z",
     "shell.execute_reply": "2020-11-20T06:03:06.920392Z"
    },
    "papermill": {
     "duration": 0.052916,
     "end_time": "2020-11-20T06:03:06.920499",
     "exception": false,
     "start_time": "2020-11-20T06:03:06.867583",
     "status": "completed"
    },
    "tags": []
   },
   "outputs": [],
   "source": [
    "def run_single_fold(train,\n",
    "                    test,\n",
    "                    features,\n",
    "                    targets,\n",
    "                    device,\n",
    "                    fold_num=0,\n",
    "                    seed=42):\n",
    "    \n",
    "    model_file = os.path.join(output_dir, f'fold{fold_num}_seed{seed}.pth')\n",
    "    seed_everything(seed)\n",
    "    \n",
    "    train_index = train.loc[train['fold'] != fold_num].index\n",
    "    valid_index = train.loc[train['fold'] == fold_num].index\n",
    "    \n",
    "    train_data = train.loc[train_index][features].reset_index(drop=True)\n",
    "    valid_data = train.loc[valid_index][features].reset_index(drop=True)\n",
    "    \n",
    "    train_targets = train.loc[train_index][targets]\n",
    "    valid_targets = train.loc[valid_index][targets]\n",
    "    \n",
    "    train_dataset = TrainDataset(train_data, train_targets)\n",
    "    valid_dataset = TrainDataset(valid_data, valid_targets)\n",
    "    \n",
    "    train_loader = DataLoader(train_dataset, batch_size=BATCH_SIZE, shuffle=True, num_workers=4, pin_memory=True, drop_last=True)\n",
    "    valid_loader = DataLoader(valid_dataset, batch_size=BATCH_SIZE, shuffle=False, num_workers=4, pin_memory=True, drop_last=False)\n",
    "    \n",
    "    fine_tune_scheduler = FineTuneScheduler(EPOCHS)\n",
    "\n",
    "    pretrained_model = Model(num_features, num_all_targets)\n",
    "    pretrained_model.to(device)\n",
    "    \n",
    "    # Train on scored & non-scored targets\n",
    "    train_model(pretrained_model, 'ALL_TARGETS', all_targets_cols)\n",
    "    \n",
    "    # Load the pretrained model with the best loss\n",
    "    pretrained_model = Model(num_feature, num_all_features)\n",
    "    pretrained_model.load_state_dict(torch.load(f'ALL_TARGETS_FOLD{fold_num}.pth'))\n",
    "    pretrained_model.to(DEVICE)\n",
    "    \n",
    "    # Copy model wihout the top layer\n",
    "    final_model = fine_tune_scheduler.copy_without_top(pretrained_model, num_features, num_all_features, num_targets)\n",
    "    \n",
    "    # Fine-tune the model on scored targets only.\n",
    "    oof = train_model(final_model, 'SCORED_ONLY', targets, fine_tune_scheduler)\n",
    "    \n",
    "    # Load the fine-tuned model with the best loss.\n",
    "    model = Model(num_features, num_targets)\n",
    "    model.load_state_dict(torch.load(f'SCORED_ONLY_FOLD{fold_num}.pth'))\n",
    "    model.to(DEVICE)\n",
    "            \n",
    "    # predictions\n",
    "    test_dataset = TestDataset(test[features])\n",
    "    test_loader = DataLoader(test_dataset, batch_size=BATCH_SIZE, shuffle=False, num_workers=4, pin_memory=True)\n",
    "    \n",
    "    model = MLP()\n",
    "    model.load_state_dict(torch.load(model_file))\n",
    "    model.to(device)\n",
    "    \n",
    "    predictions = inference_fn(test_loader, model, device)\n",
    "    \n",
    "    # delete\n",
    "    torch.cuda.empty_cache()\n",
    "    \n",
    "    return oof, predictions"
   ]
  },
  {
   "cell_type": "code",
   "execution_count": 25,
   "metadata": {
    "collapsed": true,
    "execution": {
     "iopub.execute_input": "2020-11-20T06:03:06.990298Z",
     "iopub.status.busy": "2020-11-20T06:03:06.988479Z",
     "iopub.status.idle": "2020-11-20T06:03:06.991014Z",
     "shell.execute_reply": "2020-11-20T06:03:06.991500Z"
    },
    "papermill": {
     "duration": 0.042666,
     "end_time": "2020-11-20T06:03:06.991606",
     "exception": false,
     "start_time": "2020-11-20T06:03:06.948940",
     "status": "completed"
    },
    "tags": []
   },
   "outputs": [],
   "source": [
    "def run_oof(train,\n",
    "            test, \n",
    "            features,\n",
    "            targets,\n",
    "            device,\n",
    "            n_fold=5,\n",
    "            seed=42):\n",
    "    \n",
    "    oof = np.zeros((len(train), len(targets)))\n",
    "    predictions = np.zeros((len(test), len(targets)))\n",
    "        \n",
    "    train['fold'] = 0\n",
    "    mlskf = MultilabelStratifiedKFold(n_splits = NUM_FOLDS, shuffle=True, random_state=seed)\n",
    "    for n, (train_index, valid_index) in enumerate(mlskf.split(train, train[targets])):\n",
    "        train.loc[valid_index, 'fold'] = int(n)\n",
    "        \n",
    "    for _fold in range(n_fold):\n",
    "        print(f'Fold {_fold+1}')\n",
    "        _oof, _predictions = run_single_fold(train,\n",
    "                                             test,\n",
    "                                             features,\n",
    "                                             targets,\n",
    "                                             device,\n",
    "                                             fold_num=_fold,\n",
    "                                             seed=seed)\n",
    "        oof += _oof\n",
    "        predictions += (_predictions / n_fold)\n",
    "        \n",
    "    score = 0\n",
    "    for i, t in enumerate(targets):\n",
    "        _score = log_loss(train[t].values, oof[:, i])\n",
    "        score += (_score / NUM_TARGETS)\n",
    "    \n",
    "    print(f'CV score: {score}')\n",
    "    \n",
    "    return oof, predictions"
   ]
  },
  {
   "cell_type": "code",
   "execution_count": 26,
   "metadata": {
    "execution": {
     "iopub.execute_input": "2020-11-20T06:03:07.057970Z",
     "iopub.status.busy": "2020-11-20T06:03:07.056864Z",
     "iopub.status.idle": "2020-11-20T06:27:48.712940Z",
     "shell.execute_reply": "2020-11-20T06:27:48.713455Z"
    },
    "papermill": {
     "duration": 1481.693542,
     "end_time": "2020-11-20T06:27:48.713633",
     "exception": false,
     "start_time": "2020-11-20T06:03:07.020091",
     "status": "completed"
    },
    "tags": []
   },
   "outputs": [
    {
     "name": "stdout",
     "output_type": "stream",
     "text": [
      "Fold 1\n",
      "epoch0 save best model ... 0.14015652847401525, 0.018638518507135948\n",
      "epoch2 save best model ... 0.0185154103011192, 0.017833404725947556\n",
      "epoch3 save best model ... 0.017432120071221007, 0.01757509785151123\n",
      "epoch4 save best model ... 0.016795368489544212, 0.017133058297689126\n",
      "epoch6 save best model ... 0.0160719108084611, 0.01701771395905234\n",
      "epoch8 save best model ... 0.015816255945059723, 0.016914904175301188\n",
      "epoch9 save best model ... 0.015530979435850125, 0.016874581486908482\n",
      "epoch11 save best model ... 0.014628159104894003, 0.016684068913710947\n",
      "Fold 2\n",
      "epoch0 save best model ... 0.14023638930151333, 0.018518766421823846\n",
      "epoch2 save best model ... 0.018525662325512973, 0.01782473893384166\n",
      "epoch3 save best model ... 0.01734953342909741, 0.017614373857888364\n",
      "epoch4 save best model ... 0.0167312769025537, 0.01747169713817552\n",
      "epoch5 save best model ... 0.016301187805586707, 0.01726651219424055\n",
      "epoch10 save best model ... 0.015101789488341578, 0.017218567936845237\n",
      "Fold 3\n",
      "epoch0 save best model ... 0.14033571292856967, 0.019390441336009253\n",
      "epoch2 save best model ... 0.01849472732283175, 0.01823086554994955\n",
      "epoch3 save best model ... 0.017367884319574728, 0.017882560577099308\n",
      "epoch4 save best model ... 0.016761453871540453, 0.017500394323505548\n",
      "epoch7 save best model ... 0.015936273410168553, 0.017311872661555004\n",
      "epoch8 save best model ... 0.01581260839130485, 0.017201899974299318\n",
      "epoch10 save best model ... 0.015153993942509712, 0.017107209959544734\n",
      "Fold 4\n",
      "epoch0 save best model ... 0.14028566350385438, 0.01842389810397576\n",
      "epoch2 save best model ... 0.018533331569773655, 0.01794339429358008\n",
      "epoch3 save best model ... 0.017388311141666814, 0.01764797474213097\n",
      "epoch4 save best model ... 0.016742383757007928, 0.017061420557659825\n",
      "epoch11 save best model ... 0.014467951873942774, 0.017018549855382675\n",
      "Fold 5\n",
      "epoch0 save best model ... 0.14031682589879926, 0.019666106226283352\n",
      "epoch1 save best model ... 0.019359654432543328, 0.01911442094251242\n",
      "epoch2 save best model ... 0.018487471949485856, 0.017994189449078945\n",
      "epoch4 save best model ... 0.01666355854321788, 0.017274636527043946\n",
      "epoch7 save best model ... 0.015905848724672395, 0.017115732135594842\n",
      "epoch10 save best model ... 0.015093056325304464, 0.016948263472739547\n",
      "CV score: 0.01699533609290207\n",
      "Fold 1\n",
      "epoch0 save best model ... 0.1395377196731848, 0.018968057483018774\n",
      "epoch2 save best model ... 0.01849797161051283, 0.017891230226737758\n",
      "epoch3 save best model ... 0.017405305764753454, 0.017701154129991747\n",
      "epoch4 save best model ... 0.01671908218005713, 0.01763208459054393\n",
      "epoch5 save best model ... 0.016272462920598467, 0.017379100941839646\n",
      "epoch8 save best model ... 0.015612504518094615, 0.01737748477145381\n",
      "epoch10 save best model ... 0.01511938789057253, 0.01732155317527629\n",
      "epoch11 save best model ... 0.014586185978684765, 0.017270740772616377\n",
      "epoch12 save best model ... 0.013848972481328749, 0.01719676176038112\n",
      "Fold 2\n",
      "epoch0 save best model ... 0.13954154295969184, 0.01930113314377284\n",
      "epoch1 save best model ... 0.019300665507555333, 0.019037111008917418\n",
      "epoch2 save best model ... 0.018587617964966455, 0.017838156080734757\n",
      "epoch4 save best model ... 0.016779911806331062, 0.01746380500716066\n",
      "epoch5 save best model ... 0.01636411685387801, 0.017260705403016205\n",
      "epoch8 save best model ... 0.015710963024655834, 0.017078403706804496\n",
      "epoch10 save best model ... 0.015085112699477451, 0.017017952218261422\n",
      "Fold 3\n",
      "epoch0 save best model ... 0.1395521873801974, 0.01979587934308618\n",
      "epoch1 save best model ... 0.019244082462396065, 0.018895674998093016\n",
      "epoch2 save best model ... 0.018366994300558076, 0.018305125724380814\n",
      "epoch3 save best model ... 0.0173374229216146, 0.01742882371767014\n",
      "epoch4 save best model ... 0.016631649309143858, 0.017396972984063664\n",
      "epoch8 save best model ... 0.015678374394162618, 0.017198956326858875\n",
      "epoch9 save best model ... 0.01550723129482328, 0.01707915477429199\n",
      "epoch10 save best model ... 0.015125177156547234, 0.01700347562240533\n",
      "Fold 4\n",
      "epoch0 save best model ... 0.13960752816510516, 0.019394272214527282\n",
      "epoch2 save best model ... 0.018613044884613288, 0.017601351646159124\n",
      "epoch3 save best model ... 0.01747474954361572, 0.017303624058435066\n",
      "epoch5 save best model ... 0.016316713087165553, 0.01715456971257993\n",
      "epoch6 save best model ... 0.016157434887871365, 0.016888299043839775\n",
      "epoch9 save best model ... 0.015565694974273117, 0.01680417094116602\n",
      "Fold 5\n",
      "epoch0 save best model ... 0.13960693175326624, 0.019948242392586142\n",
      "epoch1 save best model ... 0.019375081279444217, 0.01897253964503629\n",
      "epoch3 save best model ... 0.017279548495736, 0.018741419245669265\n",
      "epoch4 save best model ... 0.016642513528574994, 0.017135850814487232\n",
      "epoch8 save best model ... 0.01576909114246386, 0.017086736760728045\n",
      "CV score: 0.01702181253156862\n",
      "Fold 1\n",
      "epoch0 save best model ... 0.13853246581326, 0.019220440061699286\n",
      "epoch1 save best model ... 0.01928487542785541, 0.019018897656054322\n",
      "epoch2 save best model ... 0.01842882788576947, 0.01769010279972556\n",
      "epoch4 save best model ... 0.01656619587022621, 0.017454559935558087\n",
      "epoch5 save best model ... 0.016316898423756887, 0.017419984036789262\n",
      "epoch9 save best model ... 0.015394859994850019, 0.017213265649583996\n",
      "epoch10 save best model ... 0.015140994494427403, 0.017110596059615762\n",
      "Fold 2\n",
      "epoch0 save best model ... 0.13852621587231265, 0.018752216559440732\n",
      "epoch2 save best model ... 0.01844574449359555, 0.01816133338632094\n",
      "epoch3 save best model ... 0.017360906346096067, 0.0177947066764193\n",
      "epoch4 save best model ... 0.016667344811352066, 0.01752702274806857\n",
      "epoch5 save best model ... 0.016300715681124667, 0.017342257392154545\n",
      "epoch6 save best model ... 0.016071181999261143, 0.01730823062282199\n",
      "epoch11 save best model ... 0.01451642823364776, 0.017038552644353815\n",
      "Fold 3\n",
      "epoch0 save best model ... 0.1386968129905906, 0.018674951860074437\n",
      "epoch1 save best model ... 0.01939885426537018, 0.01853222997820934\n",
      "epoch2 save best model ... 0.018519854006513844, 0.017765444209947672\n",
      "epoch3 save best model ... 0.017432131641374454, 0.0175376490373716\n",
      "epoch4 save best model ... 0.016758195855348868, 0.017344175262593055\n",
      "epoch5 save best model ... 0.016355528686549107, 0.017004791364192556\n",
      "Fold 4\n",
      "epoch0 save best model ... 0.13864117175898086, 0.019297530739684855\n",
      "epoch2 save best model ... 0.018538041171162343, 0.018054678232954275\n",
      "epoch3 save best model ... 0.017415145435880353, 0.017723121036242923\n",
      "epoch4 save best model ... 0.016641177174152574, 0.017164300283701382\n",
      "epoch9 save best model ... 0.01556682981972168, 0.017086097428783063\n",
      "epoch10 save best model ... 0.01519141640058671, 0.01696471426771754\n",
      "epoch11 save best model ... 0.01460794337946976, 0.016948489138351622\n",
      "Fold 5\n",
      "epoch0 save best model ... 0.138555431012812, 0.018980068911531568\n",
      "epoch2 save best model ... 0.018473279869768523, 0.018042717124323798\n",
      "epoch3 save best model ... 0.017293776714338165, 0.01749881997082351\n",
      "epoch5 save best model ... 0.016221644022046542, 0.017398427465476908\n",
      "epoch6 save best model ... 0.016053084280668168, 0.01732626610356397\n",
      "epoch8 save best model ... 0.015692256632376545, 0.01727938996897414\n",
      "epoch11 save best model ... 0.014573785082103998, 0.0172135648961646\n",
      "CV score: 0.017063190887169143\n",
      "Seed Averaged CV score : 0.01613526340373814\n"
     ]
    }
   ],
   "source": [
    "# Seed Averaging for solid result\n",
    "\n",
    "oof = np.zeros((len(train), NUM_TARGETS))\n",
    "predictions = np.zeros((len(test), NUM_TARGETS))\n",
    "\n",
    "SEED = [0, 1, 2]\n",
    "\n",
    "for seed in SEED:\n",
    "    _oof, _predictions = run_oof(train,\n",
    "                                 test,\n",
    "                                 all_features,\n",
    "                                 targets,\n",
    "                                 device,\n",
    "                                 n_fold=5,\n",
    "                                 seed=seed)\n",
    "    \n",
    "    oof += (_oof / len(SEED))\n",
    "    predictions += (_predictions / len(SEED))\n",
    "    \n",
    "score = 0\n",
    "for i, t in enumerate(targets):\n",
    "    _score = log_loss(train[t].values, oof[:, i])\n",
    "    score += (_score / NUM_TARGETS)\n",
    "    \n",
    "print(f'Seed Averaged CV score : {score}')"
   ]
  },
  {
   "cell_type": "code",
   "execution_count": 27,
   "metadata": {
    "collapsed": true,
    "execution": {
     "iopub.execute_input": "2020-11-20T06:27:49.186286Z",
     "iopub.status.busy": "2020-11-20T06:27:49.185366Z",
     "iopub.status.idle": "2020-11-20T06:28:05.356814Z",
     "shell.execute_reply": "2020-11-20T06:28:05.355700Z"
    },
    "papermill": {
     "duration": 16.570064,
     "end_time": "2020-11-20T06:28:05.356941",
     "exception": false,
     "start_time": "2020-11-20T06:27:48.786877",
     "status": "completed"
    },
    "tags": []
   },
   "outputs": [],
   "source": [
    "train[targets] = oof\n",
    "train[['sig_id'] + targets].to_csv(os.path.join(output_dir, 'oof.csv'), index=False)\n",
    "\n",
    "for c in targets:\n",
    "    test[c] = 0\n",
    "    \n",
    "test[targets] = predictions\n",
    "test[['sig_id'] + targets].to_csv(os.path.join(output_dir, 'pred.csv'), index=False)"
   ]
  },
  {
   "cell_type": "code",
   "execution_count": 28,
   "metadata": {
    "execution": {
     "iopub.execute_input": "2020-11-20T06:28:05.518652Z",
     "iopub.status.busy": "2020-11-20T06:28:05.517404Z",
     "iopub.status.idle": "2020-11-20T06:28:06.505048Z",
     "shell.execute_reply": "2020-11-20T06:28:06.504527Z"
    },
    "papermill": {
     "duration": 1.078245,
     "end_time": "2020-11-20T06:28:06.505172",
     "exception": false,
     "start_time": "2020-11-20T06:28:05.426927",
     "status": "completed"
    },
    "tags": []
   },
   "outputs": [
    {
     "name": "stdout",
     "output_type": "stream",
     "text": [
      "Final result : 0.014870948231512835\n"
     ]
    }
   ],
   "source": [
    "result = targets_scored.drop(columns=targets).merge(train[['sig_id'] + targets], on='sig_id', how='left').fillna(0)\n",
    "\n",
    "y_true = targets_scored[targets].values\n",
    "y_pred = result[targets].values\n",
    "\n",
    "score = 0\n",
    "for i in range(NUM_TARGETS):\n",
    "    _score = log_loss(y_true[:, i], y_pred[:, i])\n",
    "    score += (_score / NUM_TARGETS)\n",
    "    \n",
    "print(f'Final result : {score}')"
   ]
  },
  {
   "cell_type": "markdown",
   "metadata": {
    "papermill": {
     "duration": 0.068707,
     "end_time": "2020-11-20T06:28:06.643407",
     "exception": false,
     "start_time": "2020-11-20T06:28:06.574700",
     "status": "completed"
    },
    "tags": []
   },
   "source": [
    "### Submit"
   ]
  },
  {
   "cell_type": "code",
   "execution_count": 29,
   "metadata": {
    "collapsed": true,
    "execution": {
     "iopub.execute_input": "2020-11-20T06:28:06.786184Z",
     "iopub.status.busy": "2020-11-20T06:28:06.785401Z",
     "iopub.status.idle": "2020-11-20T06:28:06.788293Z",
     "shell.execute_reply": "2020-11-20T06:28:06.787804Z"
    },
    "papermill": {
     "duration": 0.076203,
     "end_time": "2020-11-20T06:28:06.788390",
     "exception": false,
     "start_time": "2020-11-20T06:28:06.712187",
     "status": "completed"
    },
    "tags": []
   },
   "outputs": [],
   "source": [
    "if ON_KAGGLE:\n",
    "    sub_file = 'submission.csv'\n",
    "else:\n",
    "    sub_file = os.path.join(output_dir, 'submission.csv')"
   ]
  },
  {
   "cell_type": "code",
   "execution_count": 30,
   "metadata": {
    "execution": {
     "iopub.execute_input": "2020-11-20T06:28:06.937134Z",
     "iopub.status.busy": "2020-11-20T06:28:06.935854Z",
     "iopub.status.idle": "2020-11-20T06:28:08.742599Z",
     "shell.execute_reply": "2020-11-20T06:28:08.743070Z"
    },
    "papermill": {
     "duration": 1.885835,
     "end_time": "2020-11-20T06:28:08.743216",
     "exception": false,
     "start_time": "2020-11-20T06:28:06.857381",
     "status": "completed"
    },
    "tags": []
   },
   "outputs": [
    {
     "data": {
      "text/html": [
       "<div>\n",
       "<style scoped>\n",
       "    .dataframe tbody tr th:only-of-type {\n",
       "        vertical-align: middle;\n",
       "    }\n",
       "\n",
       "    .dataframe tbody tr th {\n",
       "        vertical-align: top;\n",
       "    }\n",
       "\n",
       "    .dataframe thead th {\n",
       "        text-align: right;\n",
       "    }\n",
       "</style>\n",
       "<table border=\"1\" class=\"dataframe\">\n",
       "  <thead>\n",
       "    <tr style=\"text-align: right;\">\n",
       "      <th></th>\n",
       "      <th>sig_id</th>\n",
       "      <th>5-alpha_reductase_inhibitor</th>\n",
       "      <th>11-beta-hsd1_inhibitor</th>\n",
       "      <th>acat_inhibitor</th>\n",
       "      <th>acetylcholine_receptor_agonist</th>\n",
       "      <th>acetylcholine_receptor_antagonist</th>\n",
       "      <th>acetylcholinesterase_inhibitor</th>\n",
       "      <th>adenosine_receptor_agonist</th>\n",
       "      <th>adenosine_receptor_antagonist</th>\n",
       "      <th>adenylyl_cyclase_activator</th>\n",
       "      <th>...</th>\n",
       "      <th>tropomyosin_receptor_kinase_inhibitor</th>\n",
       "      <th>trpv_agonist</th>\n",
       "      <th>trpv_antagonist</th>\n",
       "      <th>tubulin_inhibitor</th>\n",
       "      <th>tyrosine_kinase_inhibitor</th>\n",
       "      <th>ubiquitin_specific_protease_inhibitor</th>\n",
       "      <th>vegfr_inhibitor</th>\n",
       "      <th>vitamin_b</th>\n",
       "      <th>vitamin_d_receptor_agonist</th>\n",
       "      <th>wnt_inhibitor</th>\n",
       "    </tr>\n",
       "  </thead>\n",
       "  <tbody>\n",
       "    <tr>\n",
       "      <th>0</th>\n",
       "      <td>id_0004d9e33</td>\n",
       "      <td>0.000558</td>\n",
       "      <td>0.001060</td>\n",
       "      <td>0.001890</td>\n",
       "      <td>0.009645</td>\n",
       "      <td>0.018072</td>\n",
       "      <td>0.005951</td>\n",
       "      <td>0.001248</td>\n",
       "      <td>0.006448</td>\n",
       "      <td>0.000079</td>\n",
       "      <td>...</td>\n",
       "      <td>0.000654</td>\n",
       "      <td>0.001708</td>\n",
       "      <td>0.002776</td>\n",
       "      <td>0.001144</td>\n",
       "      <td>0.000424</td>\n",
       "      <td>0.000502</td>\n",
       "      <td>0.000606</td>\n",
       "      <td>0.001265</td>\n",
       "      <td>0.003285</td>\n",
       "      <td>0.001376</td>\n",
       "    </tr>\n",
       "    <tr>\n",
       "      <th>1</th>\n",
       "      <td>id_001897cda</td>\n",
       "      <td>0.000399</td>\n",
       "      <td>0.001101</td>\n",
       "      <td>0.002146</td>\n",
       "      <td>0.002328</td>\n",
       "      <td>0.002341</td>\n",
       "      <td>0.003318</td>\n",
       "      <td>0.009224</td>\n",
       "      <td>0.011367</td>\n",
       "      <td>0.024113</td>\n",
       "      <td>...</td>\n",
       "      <td>0.000450</td>\n",
       "      <td>0.000682</td>\n",
       "      <td>0.003648</td>\n",
       "      <td>0.000369</td>\n",
       "      <td>0.031975</td>\n",
       "      <td>0.000373</td>\n",
       "      <td>0.014118</td>\n",
       "      <td>0.000811</td>\n",
       "      <td>0.002732</td>\n",
       "      <td>0.004331</td>\n",
       "    </tr>\n",
       "    <tr>\n",
       "      <th>2</th>\n",
       "      <td>id_002429b5b</td>\n",
       "      <td>0.000000</td>\n",
       "      <td>0.000000</td>\n",
       "      <td>0.000000</td>\n",
       "      <td>0.000000</td>\n",
       "      <td>0.000000</td>\n",
       "      <td>0.000000</td>\n",
       "      <td>0.000000</td>\n",
       "      <td>0.000000</td>\n",
       "      <td>0.000000</td>\n",
       "      <td>...</td>\n",
       "      <td>0.000000</td>\n",
       "      <td>0.000000</td>\n",
       "      <td>0.000000</td>\n",
       "      <td>0.000000</td>\n",
       "      <td>0.000000</td>\n",
       "      <td>0.000000</td>\n",
       "      <td>0.000000</td>\n",
       "      <td>0.000000</td>\n",
       "      <td>0.000000</td>\n",
       "      <td>0.000000</td>\n",
       "    </tr>\n",
       "    <tr>\n",
       "      <th>3</th>\n",
       "      <td>id_00276f245</td>\n",
       "      <td>0.000581</td>\n",
       "      <td>0.000499</td>\n",
       "      <td>0.003548</td>\n",
       "      <td>0.017654</td>\n",
       "      <td>0.013674</td>\n",
       "      <td>0.006719</td>\n",
       "      <td>0.005380</td>\n",
       "      <td>0.005945</td>\n",
       "      <td>0.000210</td>\n",
       "      <td>...</td>\n",
       "      <td>0.000728</td>\n",
       "      <td>0.001412</td>\n",
       "      <td>0.004233</td>\n",
       "      <td>0.044727</td>\n",
       "      <td>0.011808</td>\n",
       "      <td>0.000429</td>\n",
       "      <td>0.001231</td>\n",
       "      <td>0.002732</td>\n",
       "      <td>0.002335</td>\n",
       "      <td>0.004616</td>\n",
       "    </tr>\n",
       "    <tr>\n",
       "      <th>4</th>\n",
       "      <td>id_0027f1083</td>\n",
       "      <td>0.001649</td>\n",
       "      <td>0.001153</td>\n",
       "      <td>0.002538</td>\n",
       "      <td>0.015504</td>\n",
       "      <td>0.023633</td>\n",
       "      <td>0.004503</td>\n",
       "      <td>0.007552</td>\n",
       "      <td>0.001953</td>\n",
       "      <td>0.000275</td>\n",
       "      <td>...</td>\n",
       "      <td>0.000843</td>\n",
       "      <td>0.000814</td>\n",
       "      <td>0.003958</td>\n",
       "      <td>0.004164</td>\n",
       "      <td>0.001363</td>\n",
       "      <td>0.000725</td>\n",
       "      <td>0.001245</td>\n",
       "      <td>0.001979</td>\n",
       "      <td>0.000116</td>\n",
       "      <td>0.001505</td>\n",
       "    </tr>\n",
       "  </tbody>\n",
       "</table>\n",
       "<p>5 rows × 207 columns</p>\n",
       "</div>"
      ],
      "text/plain": [
       "         sig_id  5-alpha_reductase_inhibitor  11-beta-hsd1_inhibitor  \\\n",
       "0  id_0004d9e33                     0.000558                0.001060   \n",
       "1  id_001897cda                     0.000399                0.001101   \n",
       "2  id_002429b5b                     0.000000                0.000000   \n",
       "3  id_00276f245                     0.000581                0.000499   \n",
       "4  id_0027f1083                     0.001649                0.001153   \n",
       "\n",
       "   acat_inhibitor  acetylcholine_receptor_agonist  \\\n",
       "0        0.001890                        0.009645   \n",
       "1        0.002146                        0.002328   \n",
       "2        0.000000                        0.000000   \n",
       "3        0.003548                        0.017654   \n",
       "4        0.002538                        0.015504   \n",
       "\n",
       "   acetylcholine_receptor_antagonist  acetylcholinesterase_inhibitor  \\\n",
       "0                           0.018072                        0.005951   \n",
       "1                           0.002341                        0.003318   \n",
       "2                           0.000000                        0.000000   \n",
       "3                           0.013674                        0.006719   \n",
       "4                           0.023633                        0.004503   \n",
       "\n",
       "   adenosine_receptor_agonist  adenosine_receptor_antagonist  \\\n",
       "0                    0.001248                       0.006448   \n",
       "1                    0.009224                       0.011367   \n",
       "2                    0.000000                       0.000000   \n",
       "3                    0.005380                       0.005945   \n",
       "4                    0.007552                       0.001953   \n",
       "\n",
       "   adenylyl_cyclase_activator  ...  tropomyosin_receptor_kinase_inhibitor  \\\n",
       "0                    0.000079  ...                               0.000654   \n",
       "1                    0.024113  ...                               0.000450   \n",
       "2                    0.000000  ...                               0.000000   \n",
       "3                    0.000210  ...                               0.000728   \n",
       "4                    0.000275  ...                               0.000843   \n",
       "\n",
       "   trpv_agonist  trpv_antagonist  tubulin_inhibitor  \\\n",
       "0      0.001708         0.002776           0.001144   \n",
       "1      0.000682         0.003648           0.000369   \n",
       "2      0.000000         0.000000           0.000000   \n",
       "3      0.001412         0.004233           0.044727   \n",
       "4      0.000814         0.003958           0.004164   \n",
       "\n",
       "   tyrosine_kinase_inhibitor  ubiquitin_specific_protease_inhibitor  \\\n",
       "0                   0.000424                               0.000502   \n",
       "1                   0.031975                               0.000373   \n",
       "2                   0.000000                               0.000000   \n",
       "3                   0.011808                               0.000429   \n",
       "4                   0.001363                               0.000725   \n",
       "\n",
       "   vegfr_inhibitor  vitamin_b  vitamin_d_receptor_agonist  wnt_inhibitor  \n",
       "0         0.000606   0.001265                    0.003285       0.001376  \n",
       "1         0.014118   0.000811                    0.002732       0.004331  \n",
       "2         0.000000   0.000000                    0.000000       0.000000  \n",
       "3         0.001231   0.002732                    0.002335       0.004616  \n",
       "4         0.001245   0.001979                    0.000116       0.001505  \n",
       "\n",
       "[5 rows x 207 columns]"
      ]
     },
     "execution_count": 30,
     "metadata": {},
     "output_type": "execute_result"
    }
   ],
   "source": [
    "sub = submission.drop(columns=targets).merge(test[['sig_id'] + targets], on='sig_id', how='left').fillna(0)\n",
    "sub.to_csv(sub_file, index=False)\n",
    "sub.head()"
   ]
  },
  {
   "cell_type": "code",
   "execution_count": null,
   "metadata": {
    "collapsed": true,
    "papermill": {
     "duration": 0.070146,
     "end_time": "2020-11-20T06:28:08.883561",
     "exception": false,
     "start_time": "2020-11-20T06:28:08.813415",
     "status": "completed"
    },
    "tags": []
   },
   "outputs": [],
   "source": []
  }
 ],
 "metadata": {
  "kernelspec": {
   "display_name": "venv3",
   "language": "python",
   "name": "venv3"
  },
  "language_info": {
   "codemirror_mode": {
    "name": "ipython",
    "version": 3
   },
   "file_extension": ".py",
   "mimetype": "text/x-python",
   "name": "python",
   "nbconvert_exporter": "python",
   "pygments_lexer": "ipython3",
   "version": "3.7.0"
  },
  "papermill": {
   "duration": 1525.27821,
   "end_time": "2020-11-20T06:28:09.361999",
   "environment_variables": {},
   "exception": null,
   "input_path": "__notebook__.ipynb",
   "output_path": "__notebook__.ipynb",
   "parameters": {},
   "start_time": "2020-11-20T06:02:44.083789",
   "version": "2.1.0"
  },
  "widgets": {
   "application/vnd.jupyter.widget-state+json": {
    "state": {
     "452a05c6cebc49e6baa2e561ba22b629": {
      "model_module": "@jupyter-widgets/controls",
      "model_module_version": "1.5.0",
      "model_name": "HTMLModel",
      "state": {
       "_dom_classes": [],
       "_model_module": "@jupyter-widgets/controls",
       "_model_module_version": "1.5.0",
       "_model_name": "HTMLModel",
       "_view_count": null,
       "_view_module": "@jupyter-widgets/controls",
       "_view_module_version": "1.5.0",
       "_view_name": "HTMLView",
       "description": "",
       "description_tooltip": null,
       "layout": "IPY_MODEL_651bb716f78f418e8c9073fb44ec3baf",
       "placeholder": "​",
       "style": "IPY_MODEL_f7efa023391847b69d231ebf73811957",
       "value": " 872/872 [00:08&lt;00:00, 103.45it/s]"
      }
     },
     "651bb716f78f418e8c9073fb44ec3baf": {
      "model_module": "@jupyter-widgets/base",
      "model_module_version": "1.2.0",
      "model_name": "LayoutModel",
      "state": {
       "_model_module": "@jupyter-widgets/base",
       "_model_module_version": "1.2.0",
       "_model_name": "LayoutModel",
       "_view_count": null,
       "_view_module": "@jupyter-widgets/base",
       "_view_module_version": "1.2.0",
       "_view_name": "LayoutView",
       "align_content": null,
       "align_items": null,
       "align_self": null,
       "border": null,
       "bottom": null,
       "display": null,
       "flex": null,
       "flex_flow": null,
       "grid_area": null,
       "grid_auto_columns": null,
       "grid_auto_flow": null,
       "grid_auto_rows": null,
       "grid_column": null,
       "grid_gap": null,
       "grid_row": null,
       "grid_template_areas": null,
       "grid_template_columns": null,
       "grid_template_rows": null,
       "height": null,
       "justify_content": null,
       "justify_items": null,
       "left": null,
       "margin": null,
       "max_height": null,
       "max_width": null,
       "min_height": null,
       "min_width": null,
       "object_fit": null,
       "object_position": null,
       "order": null,
       "overflow": null,
       "overflow_x": null,
       "overflow_y": null,
       "padding": null,
       "right": null,
       "top": null,
       "visibility": null,
       "width": null
      }
     },
     "829b30c0ed5a40f789c23616a6925688": {
      "model_module": "@jupyter-widgets/controls",
      "model_module_version": "1.5.0",
      "model_name": "HBoxModel",
      "state": {
       "_dom_classes": [],
       "_model_module": "@jupyter-widgets/controls",
       "_model_module_version": "1.5.0",
       "_model_name": "HBoxModel",
       "_view_count": null,
       "_view_module": "@jupyter-widgets/controls",
       "_view_module_version": "1.5.0",
       "_view_name": "HBoxView",
       "box_style": "",
       "children": [
        "IPY_MODEL_b64c0bc649ce4adbbe7e48f1d7c93637",
        "IPY_MODEL_452a05c6cebc49e6baa2e561ba22b629"
       ],
       "layout": "IPY_MODEL_9f7a775697474bc7a28e41536d038d4b"
      }
     },
     "9f7a775697474bc7a28e41536d038d4b": {
      "model_module": "@jupyter-widgets/base",
      "model_module_version": "1.2.0",
      "model_name": "LayoutModel",
      "state": {
       "_model_module": "@jupyter-widgets/base",
       "_model_module_version": "1.2.0",
       "_model_name": "LayoutModel",
       "_view_count": null,
       "_view_module": "@jupyter-widgets/base",
       "_view_module_version": "1.2.0",
       "_view_name": "LayoutView",
       "align_content": null,
       "align_items": null,
       "align_self": null,
       "border": null,
       "bottom": null,
       "display": null,
       "flex": null,
       "flex_flow": null,
       "grid_area": null,
       "grid_auto_columns": null,
       "grid_auto_flow": null,
       "grid_auto_rows": null,
       "grid_column": null,
       "grid_gap": null,
       "grid_row": null,
       "grid_template_areas": null,
       "grid_template_columns": null,
       "grid_template_rows": null,
       "height": null,
       "justify_content": null,
       "justify_items": null,
       "left": null,
       "margin": null,
       "max_height": null,
       "max_width": null,
       "min_height": null,
       "min_width": null,
       "object_fit": null,
       "object_position": null,
       "order": null,
       "overflow": null,
       "overflow_x": null,
       "overflow_y": null,
       "padding": null,
       "right": null,
       "top": null,
       "visibility": null,
       "width": null
      }
     },
     "b64c0bc649ce4adbbe7e48f1d7c93637": {
      "model_module": "@jupyter-widgets/controls",
      "model_module_version": "1.5.0",
      "model_name": "FloatProgressModel",
      "state": {
       "_dom_classes": [],
       "_model_module": "@jupyter-widgets/controls",
       "_model_module_version": "1.5.0",
       "_model_name": "FloatProgressModel",
       "_view_count": null,
       "_view_module": "@jupyter-widgets/controls",
       "_view_module_version": "1.5.0",
       "_view_name": "ProgressView",
       "bar_style": "success",
       "description": "100%",
       "description_tooltip": null,
       "layout": "IPY_MODEL_d0691bc424bb4560b36c42ea66211319",
       "max": 872,
       "min": 0,
       "orientation": "horizontal",
       "style": "IPY_MODEL_bb05ffb89a8c46dea6b2e0f77df62436",
       "value": 872
      }
     },
     "bb05ffb89a8c46dea6b2e0f77df62436": {
      "model_module": "@jupyter-widgets/controls",
      "model_module_version": "1.5.0",
      "model_name": "ProgressStyleModel",
      "state": {
       "_model_module": "@jupyter-widgets/controls",
       "_model_module_version": "1.5.0",
       "_model_name": "ProgressStyleModel",
       "_view_count": null,
       "_view_module": "@jupyter-widgets/base",
       "_view_module_version": "1.2.0",
       "_view_name": "StyleView",
       "bar_color": null,
       "description_width": "initial"
      }
     },
     "d0691bc424bb4560b36c42ea66211319": {
      "model_module": "@jupyter-widgets/base",
      "model_module_version": "1.2.0",
      "model_name": "LayoutModel",
      "state": {
       "_model_module": "@jupyter-widgets/base",
       "_model_module_version": "1.2.0",
       "_model_name": "LayoutModel",
       "_view_count": null,
       "_view_module": "@jupyter-widgets/base",
       "_view_module_version": "1.2.0",
       "_view_name": "LayoutView",
       "align_content": null,
       "align_items": null,
       "align_self": null,
       "border": null,
       "bottom": null,
       "display": null,
       "flex": null,
       "flex_flow": null,
       "grid_area": null,
       "grid_auto_columns": null,
       "grid_auto_flow": null,
       "grid_auto_rows": null,
       "grid_column": null,
       "grid_gap": null,
       "grid_row": null,
       "grid_template_areas": null,
       "grid_template_columns": null,
       "grid_template_rows": null,
       "height": null,
       "justify_content": null,
       "justify_items": null,
       "left": null,
       "margin": null,
       "max_height": null,
       "max_width": null,
       "min_height": null,
       "min_width": null,
       "object_fit": null,
       "object_position": null,
       "order": null,
       "overflow": null,
       "overflow_x": null,
       "overflow_y": null,
       "padding": null,
       "right": null,
       "top": null,
       "visibility": null,
       "width": null
      }
     },
     "f7efa023391847b69d231ebf73811957": {
      "model_module": "@jupyter-widgets/controls",
      "model_module_version": "1.5.0",
      "model_name": "DescriptionStyleModel",
      "state": {
       "_model_module": "@jupyter-widgets/controls",
       "_model_module_version": "1.5.0",
       "_model_name": "DescriptionStyleModel",
       "_view_count": null,
       "_view_module": "@jupyter-widgets/base",
       "_view_module_version": "1.2.0",
       "_view_name": "StyleView",
       "description_width": ""
      }
     }
    },
    "version_major": 2,
    "version_minor": 0
   }
  }
 },
 "nbformat": 4,
 "nbformat_minor": 4
}
